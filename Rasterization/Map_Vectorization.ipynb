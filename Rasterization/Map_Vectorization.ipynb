{
  "nbformat": 4,
  "nbformat_minor": 0,
  "metadata": {
    "colab": {
      "provenance": []
    },
    "kernelspec": {
      "name": "python3",
      "display_name": "Python 3"
    },
    "language_info": {
      "name": "python"
    }
  },
  "cells": [
    {
      "cell_type": "code",
      "source": [
        "from google.colab import drive\n",
        "\n",
        "drive.mount('/content/drive')"
      ],
      "metadata": {
        "colab": {
          "base_uri": "https://localhost:8080/"
        },
        "id": "GANJW5q3EvPP",
        "outputId": "68fa2c06-07d8-4693-dd37-9df3a3bcdc0f"
      },
      "execution_count": 1,
      "outputs": [
        {
          "output_type": "stream",
          "name": "stdout",
          "text": [
            "Drive already mounted at /content/drive; to attempt to forcibly remount, call drive.mount(\"/content/drive\", force_remount=True).\n"
          ]
        }
      ]
    },
    {
      "cell_type": "code",
      "source": [
        "from osgeo import gdal\n",
        "import numpy as np\n",
        "image1_path = '/content/drive/My Drive/Foundations_of_data_Science/Project/Newfolder/AQ_NYC_sample_1.tiff'\n",
        "image2_path = '/content/drive/My Drive/Foundations_of_data_Science/Project/Newfolder/AQ_NYC_sample_2.tiff'"
      ],
      "metadata": {
        "id": "ptRNCTrcFYL_"
      },
      "execution_count": 2,
      "outputs": []
    },
    {
      "cell_type": "code",
      "execution_count": 6,
      "metadata": {
        "id": "eEeRuesV_zqg"
      },
      "outputs": [],
      "source": [
        "image1 = gdal.Open(image1_path)\n",
        "image2 = gdal.Open(image2_path)\n",
        "\n",
        "image1_pm25_values_layer1 = image1.GetRasterBand(1).ReadAsArray()\n",
        "image1_pm25_values_layer4 = image1.GetRasterBand(4).ReadAsArray()\n",
        "\n",
        "image2_pm25_values_layer1 = image2.GetRasterBand(1).ReadAsArray()\n",
        "image2_pm25_values_layer4 = image2.GetRasterBand(4).ReadAsArray()"
      ]
    },
    {
      "cell_type": "code",
      "source": [
        "# prompt: find max of image1_pm25_values_layer1\n",
        "\n",
        "print(\"Pm average max:\", np.max(image1_pm25_values_layer1))\n",
        "print(\"Pm average min:\", np.min(image1_pm25_values_layer1[image1_pm25_values_layer1 != 0]))"
      ],
      "metadata": {
        "colab": {
          "base_uri": "https://localhost:8080/"
        },
        "id": "aHr61W9uGU4Q",
        "outputId": "767c5164-ce29-416c-bfbf-49faca31bbe3"
      },
      "execution_count": 7,
      "outputs": [
        {
          "output_type": "stream",
          "name": "stdout",
          "text": [
            "Pm average max: 12.49835649\n",
            "Pm average min: 2.061713825\n"
          ]
        }
      ]
    },
    {
      "cell_type": "code",
      "source": [
        "non_zero_values1 = image1_pm25_values_layer4[image1_pm25_values_layer4 != 0]\n",
        "non_zero_values2 = image2_pm25_values_layer4[image2_pm25_values_layer4 != 0]\n",
        "\n",
        "key1 = min(np.unique(non_zero_values1))\n",
        "key2 = min(np.unique(non_zero_values2))\n",
        "\n",
        "print(\"Key 1:\", key1)\n",
        "print(\"Key 2:\", key2)"
      ],
      "metadata": {
        "colab": {
          "base_uri": "https://localhost:8080/"
        },
        "id": "I8AyC1e8IF_U",
        "outputId": "734736b9-f317-43a5-e85e-d248c942b030"
      },
      "execution_count": 33,
      "outputs": [
        {
          "output_type": "stream",
          "name": "stdout",
          "text": [
            "Key 1: 7.0\n",
            "Key 2: 7.0\n"
          ]
        }
      ]
    },
    {
      "cell_type": "code",
      "source": [
        "lat_values1 = image1_pm25_values_layer1 = image1.GetRasterBand(2).ReadAsArray()\n",
        "long_values1 = image1_pm25_values_layer1 = image1.GetRasterBand(3).ReadAsArray()\n",
        "\n",
        "lat1 = lat_values1[lat_values1 != 0]\n",
        "long1 = long_values1[long_values1 != 0]\n",
        "\n",
        "print(\"Latitude 1:\", lat1)\n",
        "print(\"Longitude 1:\", long1)\n"
      ],
      "metadata": {
        "colab": {
          "base_uri": "https://localhost:8080/"
        },
        "id": "mQR0WfQBA5vi",
        "outputId": "68cd4f85-8b09-49f7-e815-e5fecb1d41d1"
      },
      "execution_count": 19,
      "outputs": [
        {
          "output_type": "stream",
          "name": "stdout",
          "text": [
            "Latitude 1: [40.90415955 40.90415955 40.90415955 ... 40.7118988  40.7118988\n",
            " 40.7118988 ]\n",
            "Longitude 1: [-73.88786316 -73.88786316 -73.88786316 ... -73.93455505 -73.93455505\n",
            " -73.93455505]\n"
          ]
        }
      ]
    },
    {
      "cell_type": "code",
      "source": [
        "#CHECKING\n",
        "band1_values = image1.GetRasterBand(1).ReadAsArray()\n",
        "band2_values = image1.GetRasterBand(2).ReadAsArray()\n",
        "band3_values = image1.GetRasterBand(3).ReadAsArray()\n",
        "\n",
        "band1_values = band1_values[band3_values != 0]\n",
        "band2_values = band2_values[band3_values != 0]\n",
        "band3_values = band3_values[band3_values != 0]\n",
        "\n",
        "print(len(band1_values))\n",
        "print(len(band2_values))\n",
        "print(len(band3_values))\n",
        "\n",
        "band4_values = image1.GetRasterBand(4).ReadAsArray()\n",
        "print(np.unique(band4_values))"
      ],
      "metadata": {
        "colab": {
          "base_uri": "https://localhost:8080/"
        },
        "id": "70SGfajXWjLi",
        "outputId": "ab4a1750-dd65-4310-d104-084a6a8d5c64"
      },
      "execution_count": 29,
      "outputs": [
        {
          "output_type": "stream",
          "name": "stdout",
          "text": [
            "206245\n",
            "206245\n",
            "206245\n",
            "[0. 7.]\n"
          ]
        }
      ]
    },
    {
      "cell_type": "code",
      "source": [
        "band1_values = image1.GetRasterBand(1).ReadAsArray()\n",
        "band2_values = image1.GetRasterBand(2).ReadAsArray()\n",
        "band3_values = image1.GetRasterBand(3).ReadAsArray()\n",
        "\n",
        "# Get dimensions of the raster\n",
        "rows, cols = band1_values.shape\n",
        "\n",
        "# Create lists to store latitude, longitude, and pm2.5 values\n",
        "latitude = []\n",
        "longitude = []\n",
        "pm25_values = []\n",
        "\n",
        "# Iterate through each pixel\n",
        "for row in range(rows):\n",
        "    for col in range(cols):\n",
        "        # Append latitude, longitude, and pm2.5 values to lists\n",
        "        latitude.append(band2_values[row, col])\n",
        "        longitude.append(band3_values[row, col])\n",
        "        pm25_values.append(band1_values[row, col])\n",
        "\n",
        "# Create DataFrame\n",
        "df = pd.DataFrame({'latitude': latitude, 'longitude': longitude, 'pm2.5 values': pm25_values})\n",
        "\n",
        "# Display DataFrame\n",
        "print(df)"
      ],
      "metadata": {
        "colab": {
          "base_uri": "https://localhost:8080/"
        },
        "id": "DfUBRiDIU71U",
        "outputId": "39d43cc1-2e9a-4bd9-fde6-d4b76311e23c"
      },
      "execution_count": 21,
      "outputs": [
        {
          "output_type": "stream",
          "name": "stdout",
          "text": [
            "         latitude  longitude  pm2.5 values\n",
            "0             0.0        0.0           0.0\n",
            "1             0.0        0.0           0.0\n",
            "2             0.0        0.0           0.0\n",
            "3             0.0        0.0           0.0\n",
            "4             0.0        0.0           0.0\n",
            "...           ...        ...           ...\n",
            "2056819       0.0        0.0           0.0\n",
            "2056820       0.0        0.0           0.0\n",
            "2056821       0.0        0.0           0.0\n",
            "2056822       0.0        0.0           0.0\n",
            "2056823       0.0        0.0           0.0\n",
            "\n",
            "[2056824 rows x 3 columns]\n"
          ]
        }
      ]
    },
    {
      "cell_type": "code",
      "source": [
        "# Filter out rows with zero values\n",
        "df_filtered = df[(df != 0).all(axis=1)]\n",
        "\n",
        "df_filtered.reset_index(drop=True, inplace=True)\n",
        "\n",
        "print(df_filtered)"
      ],
      "metadata": {
        "colab": {
          "base_uri": "https://localhost:8080/"
        },
        "id": "inn6Is1EVLu7",
        "outputId": "aaa5f5c5-ac0f-4db6-9335-16bd24b59442"
      },
      "execution_count": 26,
      "outputs": [
        {
          "output_type": "stream",
          "name": "stdout",
          "text": [
            "         latitude  longitude  pm2.5 values\n",
            "0       40.904160 -73.887863      4.326005\n",
            "1       40.904160 -73.887863      4.326005\n",
            "2       40.904160 -73.887863      4.326005\n",
            "3       40.904160 -73.887863      4.326005\n",
            "4       40.904160 -73.887863      4.326005\n",
            "...           ...        ...           ...\n",
            "206240  40.711899 -73.934555      3.187280\n",
            "206241  40.711899 -73.934555      3.187280\n",
            "206242  40.711899 -73.934555      3.187280\n",
            "206243  40.711899 -73.934555      3.187280\n",
            "206244  40.711899 -73.934555      3.187280\n",
            "\n",
            "[206245 rows x 3 columns]\n"
          ]
        }
      ]
    },
    {
      "cell_type": "code",
      "source": [
        "!pip install pygeohash"
      ],
      "metadata": {
        "colab": {
          "base_uri": "https://localhost:8080/"
        },
        "id": "l_glpqb-OkXB",
        "outputId": "03cae004-9880-4320-fc7e-afd2db5f7fb4"
      },
      "execution_count": 10,
      "outputs": [
        {
          "output_type": "stream",
          "name": "stdout",
          "text": [
            "Requirement already satisfied: pygeohash in /usr/local/lib/python3.10/dist-packages (1.2.0)\n"
          ]
        }
      ]
    },
    {
      "cell_type": "code",
      "source": [
        "import pygeohash as pgh\n",
        "\n",
        "def encode_geohash(latitude, longitude, key=key1):\n",
        "    return pgh.encode(latitude, longitude, key)\n",
        "\n",
        "# Apply the function to create the new \"Geohash\" column\n",
        "df_filtered['Geohash'] = df_filtered.apply(lambda row: encode_geohash(row['latitude'], row['longitude']), axis=1)\n",
        "\n",
        "# Display the DataFrame with the new \"Geohash\" column\n",
        "print(df_filtered)"
      ],
      "metadata": {
        "colab": {
          "base_uri": "https://localhost:8080/"
        },
        "id": "9x3guy--VvFp",
        "outputId": "51396168-ee0d-495f-a272-2f598eaf5dd4"
      },
      "execution_count": 34,
      "outputs": [
        {
          "output_type": "stream",
          "name": "stdout",
          "text": [
            "         latitude  longitude  pm2.5 values  Geohash\n",
            "0       40.904160 -73.887863      4.326005  dr72wwk\n",
            "1       40.904160 -73.887863      4.326005  dr72wwk\n",
            "2       40.904160 -73.887863      4.326005  dr72wwk\n",
            "3       40.904160 -73.887863      4.326005  dr72wwk\n",
            "4       40.904160 -73.887863      4.326005  dr72wwk\n",
            "...           ...        ...           ...      ...\n",
            "206240  40.711899 -73.934555      3.187280  dr5rte6\n",
            "206241  40.711899 -73.934555      3.187280  dr5rte6\n",
            "206242  40.711899 -73.934555      3.187280  dr5rte6\n",
            "206243  40.711899 -73.934555      3.187280  dr5rte6\n",
            "206244  40.711899 -73.934555      3.187280  dr5rte6\n",
            "\n",
            "[206245 rows x 4 columns]\n"
          ]
        },
        {
          "output_type": "stream",
          "name": "stderr",
          "text": [
            "<ipython-input-34-0fdf0ef43e2d>:7: SettingWithCopyWarning: \n",
            "A value is trying to be set on a copy of a slice from a DataFrame.\n",
            "Try using .loc[row_indexer,col_indexer] = value instead\n",
            "\n",
            "See the caveats in the documentation: https://pandas.pydata.org/pandas-docs/stable/user_guide/indexing.html#returning-a-view-versus-a-copy\n",
            "  df_filtered['Geohash'] = df_filtered.apply(lambda row: encode_geohash(row['latitude'], row['longitude']), axis=1)\n"
          ]
        }
      ]
    },
    {
      "cell_type": "code",
      "source": [
        "df_filtered = df_filtered.drop_duplicates(subset='Geohash')\n",
        "df_filtered.reset_index(drop=True, inplace=True)\n",
        "print(df_filtered)"
      ],
      "metadata": {
        "colab": {
          "base_uri": "https://localhost:8080/"
        },
        "id": "d4bzeyirAaxC",
        "outputId": "652b6c07-6402-42e0-c3bc-63c20464b38b"
      },
      "execution_count": 37,
      "outputs": [
        {
          "output_type": "stream",
          "name": "stdout",
          "text": [
            "       latitude  longitude  pm2.5 values  Geohash\n",
            "0     40.904160 -73.887863      4.326005  dr72wwk\n",
            "1     40.904160 -73.886490      3.115887  dr72wwm\n",
            "2     40.904160 -73.896103      3.521091  dr72wqq\n",
            "3     40.904160 -73.894730      3.960894  dr72wqr\n",
            "4     40.902786 -73.887863      3.304012  dr72wwh\n",
            "...         ...        ...           ...      ...\n",
            "1163  40.783310 -73.929062      3.084182  dr72j8q\n",
            "1164  40.746231 -73.845291      9.379833  dr5rz9e\n",
            "1165  40.744858 -73.845291     10.647235  dr5rz97\n",
            "1166  40.740738 -73.898849      3.084182  dr5ry2s\n",
            "1167  40.711899 -73.934555      3.187280  dr5rte6\n",
            "\n",
            "[1168 rows x 4 columns]\n"
          ]
        }
      ]
    },
    {
      "cell_type": "code",
      "source": [
        "geohash_to_find = 'dr78856'\n",
        "row_with_geohash = df_filtered[df_filtered['Geohash'] == geohash_to_find]\n",
        "print(row_with_geohash)\n"
      ],
      "metadata": {
        "colab": {
          "base_uri": "https://localhost:8080/"
        },
        "id": "evUqMzFMZCNe",
        "outputId": "d29261d0-ad4a-4989-8bd9-06a0f897144a"
      },
      "execution_count": 42,
      "outputs": [
        {
          "output_type": "stream",
          "name": "stdout",
          "text": [
            "    latitude  longitude  pm2.5 values  Geohash\n",
            "42  40.88768 -73.824692      2.726714  dr78856\n"
          ]
        }
      ]
    },
    {
      "cell_type": "code",
      "source": [
        "#squared_diff = (pm25_values_image1 - pm25_values_image2) ** 2\n",
        "\n",
        "#mean_squared_diff = np.mean(squared_diff)\n",
        "\n",
        "#rmse = np.sqrt(mean_squared_diff)\n",
        "\n",
        "#print(\"RMSE:\", rmse)"
      ],
      "metadata": {
        "id": "rCYXTKQsHimF"
      },
      "execution_count": null,
      "outputs": []
    },
    {
      "cell_type": "code",
      "source": [
        "'''\n",
        "main reading function - take reference image, iteratively go through each image in the folder, and store RMSE results in an array to pick the lowest\n",
        "'''"
      ],
      "metadata": {
        "id": "wlKd161OaH8_"
      },
      "execution_count": null,
      "outputs": []
    }
  ]
}