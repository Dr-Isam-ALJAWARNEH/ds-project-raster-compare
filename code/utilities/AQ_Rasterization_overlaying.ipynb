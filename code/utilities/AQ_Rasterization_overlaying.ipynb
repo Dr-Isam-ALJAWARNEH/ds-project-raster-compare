{
 "cells": [
  {
   "cell_type": "code",
   "execution_count": 25,
   "metadata": {},
   "outputs": [],
   "source": [
    "import pandas as pd\n",
    "import geopandas as gpd\n",
    "from geocube.api.core import make_geocube\n",
    "from geocube.rasterize import rasterize_image\n",
    "from functools import partial\n",
    "from rasterio.enums import MergeAlg\n",
    "from shapely.geometry import LineString\n",
    "import matplotlib as plt\n",
    "import matplotlib.colors as mcolors\n",
    "import matplotlib.pyplot as plt2\n",
    "import rasterio as rio\n",
    "import numpy as np\n",
    "from scipy import stats\n",
    "import requests\n",
    "from io import BytesIO\n",
    "from zipfile import ZipFile\n",
    "from functools import partial\n",
    "import pygeohash as gh"
   ]
  },
  {
   "cell_type": "code",
   "execution_count": 26,
   "metadata": {},
   "outputs": [],
   "source": [
    "url = 'https://raw.githubusercontent.com/IsamAljawarneh/datasets/master/data/NYC_AQ.csv'\n",
    "NYC_AQ = pd.read_csv(url)\n",
    "\n",
    "url = 'https://raw.githubusercontent.com/IsamAljawarneh/datasets/master/data/nyc_polygon.geojson'\n",
    "NYC_geojson = gpd.read_file(url)\n"
   ]
  },
  {
   "cell_type": "code",
   "execution_count": 27,
   "metadata": {},
   "outputs": [
    {
     "data": {
      "text/html": [
       "<div>\n",
       "<style scoped>\n",
       "    .dataframe tbody tr th:only-of-type {\n",
       "        vertical-align: middle;\n",
       "    }\n",
       "\n",
       "    .dataframe tbody tr th {\n",
       "        vertical-align: top;\n",
       "    }\n",
       "\n",
       "    .dataframe thead th {\n",
       "        text-align: right;\n",
       "    }\n",
       "</style>\n",
       "<table border=\"1\" class=\"dataframe\">\n",
       "  <thead>\n",
       "    <tr style=\"text-align: right;\">\n",
       "      <th></th>\n",
       "      <th>SensorID</th>\n",
       "      <th>time</th>\n",
       "      <th>latitude</th>\n",
       "      <th>longitude</th>\n",
       "      <th>bin0</th>\n",
       "      <th>bin1</th>\n",
       "      <th>bin2</th>\n",
       "      <th>bin3</th>\n",
       "      <th>bin4</th>\n",
       "      <th>bin5</th>\n",
       "      <th>...</th>\n",
       "      <th>bin17</th>\n",
       "      <th>bin18</th>\n",
       "      <th>bin19</th>\n",
       "      <th>bin20</th>\n",
       "      <th>bin21</th>\n",
       "      <th>bin22</th>\n",
       "      <th>bin23</th>\n",
       "      <th>temperature</th>\n",
       "      <th>humidity</th>\n",
       "      <th>pm25</th>\n",
       "    </tr>\n",
       "  </thead>\n",
       "  <tbody>\n",
       "    <tr>\n",
       "      <th>0</th>\n",
       "      <td>NYCP2_CS01A</td>\n",
       "      <td>1631277304</td>\n",
       "      <td>40.847672</td>\n",
       "      <td>-73.869316</td>\n",
       "      <td>11</td>\n",
       "      <td>1</td>\n",
       "      <td>1</td>\n",
       "      <td>0</td>\n",
       "      <td>0</td>\n",
       "      <td>0</td>\n",
       "      <td>...</td>\n",
       "      <td>0</td>\n",
       "      <td>0</td>\n",
       "      <td>0</td>\n",
       "      <td>0</td>\n",
       "      <td>0</td>\n",
       "      <td>0</td>\n",
       "      <td>0</td>\n",
       "      <td>23.7</td>\n",
       "      <td>57.3</td>\n",
       "      <td>4.508813</td>\n",
       "    </tr>\n",
       "    <tr>\n",
       "      <th>1</th>\n",
       "      <td>NYCP2_CS01A</td>\n",
       "      <td>1631277308</td>\n",
       "      <td>40.847668</td>\n",
       "      <td>-73.869316</td>\n",
       "      <td>22</td>\n",
       "      <td>4</td>\n",
       "      <td>1</td>\n",
       "      <td>0</td>\n",
       "      <td>0</td>\n",
       "      <td>2</td>\n",
       "      <td>...</td>\n",
       "      <td>0</td>\n",
       "      <td>0</td>\n",
       "      <td>0</td>\n",
       "      <td>0</td>\n",
       "      <td>0</td>\n",
       "      <td>0</td>\n",
       "      <td>0</td>\n",
       "      <td>23.7</td>\n",
       "      <td>57.8</td>\n",
       "      <td>5.462420</td>\n",
       "    </tr>\n",
       "    <tr>\n",
       "      <th>2</th>\n",
       "      <td>NYCP2_CS01A</td>\n",
       "      <td>1631277313</td>\n",
       "      <td>40.847649</td>\n",
       "      <td>-73.869362</td>\n",
       "      <td>40</td>\n",
       "      <td>1</td>\n",
       "      <td>1</td>\n",
       "      <td>0</td>\n",
       "      <td>0</td>\n",
       "      <td>1</td>\n",
       "      <td>...</td>\n",
       "      <td>0</td>\n",
       "      <td>0</td>\n",
       "      <td>0</td>\n",
       "      <td>0</td>\n",
       "      <td>0</td>\n",
       "      <td>0</td>\n",
       "      <td>0</td>\n",
       "      <td>23.7</td>\n",
       "      <td>57.8</td>\n",
       "      <td>5.154881</td>\n",
       "    </tr>\n",
       "    <tr>\n",
       "      <th>3</th>\n",
       "      <td>NYCP2_CS01A</td>\n",
       "      <td>1631277318</td>\n",
       "      <td>40.847649</td>\n",
       "      <td>-73.869362</td>\n",
       "      <td>26</td>\n",
       "      <td>1</td>\n",
       "      <td>0</td>\n",
       "      <td>0</td>\n",
       "      <td>0</td>\n",
       "      <td>0</td>\n",
       "      <td>...</td>\n",
       "      <td>0</td>\n",
       "      <td>0</td>\n",
       "      <td>0</td>\n",
       "      <td>0</td>\n",
       "      <td>0</td>\n",
       "      <td>0</td>\n",
       "      <td>0</td>\n",
       "      <td>23.6</td>\n",
       "      <td>57.6</td>\n",
       "      <td>4.508813</td>\n",
       "    </tr>\n",
       "    <tr>\n",
       "      <th>4</th>\n",
       "      <td>NYCP2_CS01A</td>\n",
       "      <td>1631277323</td>\n",
       "      <td>40.847649</td>\n",
       "      <td>-73.869362</td>\n",
       "      <td>44</td>\n",
       "      <td>4</td>\n",
       "      <td>0</td>\n",
       "      <td>1</td>\n",
       "      <td>0</td>\n",
       "      <td>0</td>\n",
       "      <td>...</td>\n",
       "      <td>0</td>\n",
       "      <td>0</td>\n",
       "      <td>0</td>\n",
       "      <td>0</td>\n",
       "      <td>0</td>\n",
       "      <td>0</td>\n",
       "      <td>0</td>\n",
       "      <td>23.6</td>\n",
       "      <td>57.5</td>\n",
       "      <td>5.539503</td>\n",
       "    </tr>\n",
       "    <tr>\n",
       "      <th>...</th>\n",
       "      <td>...</td>\n",
       "      <td>...</td>\n",
       "      <td>...</td>\n",
       "      <td>...</td>\n",
       "      <td>...</td>\n",
       "      <td>...</td>\n",
       "      <td>...</td>\n",
       "      <td>...</td>\n",
       "      <td>...</td>\n",
       "      <td>...</td>\n",
       "      <td>...</td>\n",
       "      <td>...</td>\n",
       "      <td>...</td>\n",
       "      <td>...</td>\n",
       "      <td>...</td>\n",
       "      <td>...</td>\n",
       "      <td>...</td>\n",
       "      <td>...</td>\n",
       "      <td>...</td>\n",
       "      <td>...</td>\n",
       "      <td>...</td>\n",
       "    </tr>\n",
       "    <tr>\n",
       "      <th>169994</th>\n",
       "      <td>NYCP2_CS03A</td>\n",
       "      <td>1631457109</td>\n",
       "      <td>40.823353</td>\n",
       "      <td>-73.890488</td>\n",
       "      <td>115</td>\n",
       "      <td>11</td>\n",
       "      <td>2</td>\n",
       "      <td>0</td>\n",
       "      <td>1</td>\n",
       "      <td>0</td>\n",
       "      <td>...</td>\n",
       "      <td>0</td>\n",
       "      <td>0</td>\n",
       "      <td>0</td>\n",
       "      <td>0</td>\n",
       "      <td>0</td>\n",
       "      <td>0</td>\n",
       "      <td>0</td>\n",
       "      <td>24.6</td>\n",
       "      <td>54.8</td>\n",
       "      <td>5.460360</td>\n",
       "    </tr>\n",
       "    <tr>\n",
       "      <th>169995</th>\n",
       "      <td>NYCP2_CS03A</td>\n",
       "      <td>1631457114</td>\n",
       "      <td>40.823349</td>\n",
       "      <td>-73.890480</td>\n",
       "      <td>132</td>\n",
       "      <td>8</td>\n",
       "      <td>2</td>\n",
       "      <td>0</td>\n",
       "      <td>0</td>\n",
       "      <td>0</td>\n",
       "      <td>...</td>\n",
       "      <td>0</td>\n",
       "      <td>0</td>\n",
       "      <td>0</td>\n",
       "      <td>0</td>\n",
       "      <td>0</td>\n",
       "      <td>0</td>\n",
       "      <td>0</td>\n",
       "      <td>24.6</td>\n",
       "      <td>54.8</td>\n",
       "      <td>5.298209</td>\n",
       "    </tr>\n",
       "    <tr>\n",
       "      <th>169996</th>\n",
       "      <td>NYCP2_CS03A</td>\n",
       "      <td>1631457119</td>\n",
       "      <td>40.823349</td>\n",
       "      <td>-73.890480</td>\n",
       "      <td>147</td>\n",
       "      <td>14</td>\n",
       "      <td>0</td>\n",
       "      <td>0</td>\n",
       "      <td>0</td>\n",
       "      <td>0</td>\n",
       "      <td>...</td>\n",
       "      <td>0</td>\n",
       "      <td>0</td>\n",
       "      <td>0</td>\n",
       "      <td>0</td>\n",
       "      <td>0</td>\n",
       "      <td>0</td>\n",
       "      <td>0</td>\n",
       "      <td>24.6</td>\n",
       "      <td>54.8</td>\n",
       "      <td>6.470661</td>\n",
       "    </tr>\n",
       "    <tr>\n",
       "      <th>169997</th>\n",
       "      <td>NYCP2_CS03A</td>\n",
       "      <td>1631457124</td>\n",
       "      <td>40.823345</td>\n",
       "      <td>-73.890488</td>\n",
       "      <td>121</td>\n",
       "      <td>8</td>\n",
       "      <td>2</td>\n",
       "      <td>0</td>\n",
       "      <td>1</td>\n",
       "      <td>1</td>\n",
       "      <td>...</td>\n",
       "      <td>0</td>\n",
       "      <td>0</td>\n",
       "      <td>0</td>\n",
       "      <td>0</td>\n",
       "      <td>0</td>\n",
       "      <td>0</td>\n",
       "      <td>0</td>\n",
       "      <td>24.6</td>\n",
       "      <td>54.6</td>\n",
       "      <td>6.424142</td>\n",
       "    </tr>\n",
       "    <tr>\n",
       "      <th>169998</th>\n",
       "      <td>NYCP2_CS03A</td>\n",
       "      <td>1631457129</td>\n",
       "      <td>40.823338</td>\n",
       "      <td>-73.890488</td>\n",
       "      <td>135</td>\n",
       "      <td>8</td>\n",
       "      <td>1</td>\n",
       "      <td>0</td>\n",
       "      <td>1</td>\n",
       "      <td>1</td>\n",
       "      <td>...</td>\n",
       "      <td>0</td>\n",
       "      <td>0</td>\n",
       "      <td>0</td>\n",
       "      <td>0</td>\n",
       "      <td>0</td>\n",
       "      <td>0</td>\n",
       "      <td>0</td>\n",
       "      <td>24.6</td>\n",
       "      <td>54.6</td>\n",
       "      <td>6.526187</td>\n",
       "    </tr>\n",
       "  </tbody>\n",
       "</table>\n",
       "<p>169999 rows × 31 columns</p>\n",
       "</div>"
      ],
      "text/plain": [
       "           SensorID        time   latitude  longitude  bin0  bin1  bin2  bin3  \\\n",
       "0       NYCP2_CS01A  1631277304  40.847672 -73.869316    11     1     1     0   \n",
       "1       NYCP2_CS01A  1631277308  40.847668 -73.869316    22     4     1     0   \n",
       "2       NYCP2_CS01A  1631277313  40.847649 -73.869362    40     1     1     0   \n",
       "3       NYCP2_CS01A  1631277318  40.847649 -73.869362    26     1     0     0   \n",
       "4       NYCP2_CS01A  1631277323  40.847649 -73.869362    44     4     0     1   \n",
       "...             ...         ...        ...        ...   ...   ...   ...   ...   \n",
       "169994  NYCP2_CS03A  1631457109  40.823353 -73.890488   115    11     2     0   \n",
       "169995  NYCP2_CS03A  1631457114  40.823349 -73.890480   132     8     2     0   \n",
       "169996  NYCP2_CS03A  1631457119  40.823349 -73.890480   147    14     0     0   \n",
       "169997  NYCP2_CS03A  1631457124  40.823345 -73.890488   121     8     2     0   \n",
       "169998  NYCP2_CS03A  1631457129  40.823338 -73.890488   135     8     1     0   \n",
       "\n",
       "        bin4  bin5  ...  bin17  bin18  bin19  bin20  bin21  bin22  bin23  \\\n",
       "0          0     0  ...      0      0      0      0      0      0      0   \n",
       "1          0     2  ...      0      0      0      0      0      0      0   \n",
       "2          0     1  ...      0      0      0      0      0      0      0   \n",
       "3          0     0  ...      0      0      0      0      0      0      0   \n",
       "4          0     0  ...      0      0      0      0      0      0      0   \n",
       "...      ...   ...  ...    ...    ...    ...    ...    ...    ...    ...   \n",
       "169994     1     0  ...      0      0      0      0      0      0      0   \n",
       "169995     0     0  ...      0      0      0      0      0      0      0   \n",
       "169996     0     0  ...      0      0      0      0      0      0      0   \n",
       "169997     1     1  ...      0      0      0      0      0      0      0   \n",
       "169998     1     1  ...      0      0      0      0      0      0      0   \n",
       "\n",
       "        temperature  humidity      pm25  \n",
       "0              23.7      57.3  4.508813  \n",
       "1              23.7      57.8  5.462420  \n",
       "2              23.7      57.8  5.154881  \n",
       "3              23.6      57.6  4.508813  \n",
       "4              23.6      57.5  5.539503  \n",
       "...             ...       ...       ...  \n",
       "169994         24.6      54.8  5.460360  \n",
       "169995         24.6      54.8  5.298209  \n",
       "169996         24.6      54.8  6.470661  \n",
       "169997         24.6      54.6  6.424142  \n",
       "169998         24.6      54.6  6.526187  \n",
       "\n",
       "[169999 rows x 31 columns]"
      ]
     },
     "execution_count": 27,
     "metadata": {},
     "output_type": "execute_result"
    }
   ],
   "source": [
    "NYC_AQ"
   ]
  },
  {
   "cell_type": "code",
   "execution_count": 28,
   "metadata": {},
   "outputs": [
    {
     "name": "stdout",
     "output_type": "stream",
     "text": [
      "      neighborhood boroughCode        borough  \\\n",
      "0         Allerton           2          Bronx   \n",
      "1  Alley Pond Park           4         Queens   \n",
      "2    Arden Heights           5  Staten Island   \n",
      "3        Arlington           5  Staten Island   \n",
      "4         Arrochar           5  Staten Island   \n",
      "\n",
      "                                                 @id  \\\n",
      "0  http://nyc.pediacities.com/Resource/Neighborho...   \n",
      "1  http://nyc.pediacities.com/Resource/Neighborho...   \n",
      "2  http://nyc.pediacities.com/Resource/Neighborho...   \n",
      "3  http://nyc.pediacities.com/Resource/Neighborho...   \n",
      "4  http://nyc.pediacities.com/Resource/Neighborho...   \n",
      "\n",
      "                                            geometry  \n",
      "0  POLYGON ((-73.84860 40.87167, -73.84582 40.870...  \n",
      "1  POLYGON ((-73.74333 40.73888, -73.74371 40.739...  \n",
      "2  POLYGON ((-74.16983 40.56108, -74.16982 40.561...  \n",
      "3  POLYGON ((-74.15975 40.64142, -74.15998 40.641...  \n",
      "4  POLYGON ((-74.06078 40.59319, -74.06079 40.593...  \n"
     ]
    }
   ],
   "source": [
    "print(NYC_geojson.head())"
   ]
  },
  {
   "cell_type": "code",
   "execution_count": 29,
   "metadata": {},
   "outputs": [
    {
     "name": "stdout",
     "output_type": "stream",
     "text": [
      "         latitude  longitude      pm25\n",
      "0       40.847672 -73.869316  4.508813\n",
      "1       40.847668 -73.869316  5.462420\n",
      "2       40.847649 -73.869362  5.154881\n",
      "3       40.847649 -73.869362  4.508813\n",
      "4       40.847649 -73.869362  5.539503\n",
      "...           ...        ...       ...\n",
      "169994  40.823353 -73.890488  5.460360\n",
      "169995  40.823349 -73.890480  5.298209\n",
      "169996  40.823349 -73.890480  6.470661\n",
      "169997  40.823345 -73.890488  6.424142\n",
      "169998  40.823338 -73.890488  6.526187\n",
      "\n",
      "[169999 rows x 3 columns]\n"
     ]
    }
   ],
   "source": [
    "columns_to_keep = ['latitude', 'longitude', 'pm25']\n",
    "NYC_AQ = NYC_AQ[columns_to_keep]\n",
    "\n",
    "NYC_AQ = NYC_AQ[(NYC_AQ['latitude'] != 0) & (NYC_AQ['longitude'] != 0)]\n",
    "\n",
    "NYC_AQ['longitude'] = pd.to_numeric(NYC_AQ['longitude'])\n",
    "NYC_AQ['latitude'] = pd.to_numeric(NYC_AQ['latitude'])\n",
    "\n",
    "print(NYC_AQ)"
   ]
  },
  {
   "cell_type": "code",
   "execution_count": 30,
   "metadata": {},
   "outputs": [
    {
     "data": {
      "text/html": [
       "<div>\n",
       "<style scoped>\n",
       "    .dataframe tbody tr th:only-of-type {\n",
       "        vertical-align: middle;\n",
       "    }\n",
       "\n",
       "    .dataframe tbody tr th {\n",
       "        vertical-align: top;\n",
       "    }\n",
       "\n",
       "    .dataframe thead th {\n",
       "        text-align: right;\n",
       "    }\n",
       "</style>\n",
       "<table border=\"1\" class=\"dataframe\">\n",
       "  <thead>\n",
       "    <tr style=\"text-align: right;\">\n",
       "      <th></th>\n",
       "      <th>latitude</th>\n",
       "      <th>longitude</th>\n",
       "      <th>pm25</th>\n",
       "      <th>geohash</th>\n",
       "    </tr>\n",
       "  </thead>\n",
       "  <tbody>\n",
       "    <tr>\n",
       "      <th>0</th>\n",
       "      <td>40.847672</td>\n",
       "      <td>-73.869316</td>\n",
       "      <td>4.508813</td>\n",
       "      <td>dr72rh4</td>\n",
       "    </tr>\n",
       "    <tr>\n",
       "      <th>1</th>\n",
       "      <td>40.847668</td>\n",
       "      <td>-73.869316</td>\n",
       "      <td>5.462420</td>\n",
       "      <td>dr72rh4</td>\n",
       "    </tr>\n",
       "    <tr>\n",
       "      <th>2</th>\n",
       "      <td>40.847649</td>\n",
       "      <td>-73.869362</td>\n",
       "      <td>5.154881</td>\n",
       "      <td>dr72rh1</td>\n",
       "    </tr>\n",
       "    <tr>\n",
       "      <th>3</th>\n",
       "      <td>40.847649</td>\n",
       "      <td>-73.869362</td>\n",
       "      <td>4.508813</td>\n",
       "      <td>dr72rh1</td>\n",
       "    </tr>\n",
       "    <tr>\n",
       "      <th>4</th>\n",
       "      <td>40.847649</td>\n",
       "      <td>-73.869362</td>\n",
       "      <td>5.539503</td>\n",
       "      <td>dr72rh1</td>\n",
       "    </tr>\n",
       "  </tbody>\n",
       "</table>\n",
       "</div>"
      ],
      "text/plain": [
       "    latitude  longitude      pm25  geohash\n",
       "0  40.847672 -73.869316  4.508813  dr72rh4\n",
       "1  40.847668 -73.869316  5.462420  dr72rh4\n",
       "2  40.847649 -73.869362  5.154881  dr72rh1\n",
       "3  40.847649 -73.869362  4.508813  dr72rh1\n",
       "4  40.847649 -73.869362  5.539503  dr72rh1"
      ]
     },
     "execution_count": 30,
     "metadata": {},
     "output_type": "execute_result"
    }
   ],
   "source": [
    "geohash_precision = 7\n",
    "NYC_AQ['geohash']=NYC_AQ.apply(lambda x: gh.encode(x.latitude, x.longitude, precision=geohash_precision), axis=1)\n",
    "NYC_AQ.head()"
   ]
  },
  {
   "cell_type": "code",
   "execution_count": 31,
   "metadata": {},
   "outputs": [
    {
     "data": {
      "text/html": [
       "<div>\n",
       "<style scoped>\n",
       "    .dataframe tbody tr th:only-of-type {\n",
       "        vertical-align: middle;\n",
       "    }\n",
       "\n",
       "    .dataframe tbody tr th {\n",
       "        vertical-align: top;\n",
       "    }\n",
       "\n",
       "    .dataframe thead th {\n",
       "        text-align: right;\n",
       "    }\n",
       "</style>\n",
       "<table border=\"1\" class=\"dataframe\">\n",
       "  <thead>\n",
       "    <tr style=\"text-align: right;\">\n",
       "      <th></th>\n",
       "      <th>latitude</th>\n",
       "      <th>longitude</th>\n",
       "      <th>pm25</th>\n",
       "      <th>geohash</th>\n",
       "    </tr>\n",
       "  </thead>\n",
       "  <tbody>\n",
       "    <tr>\n",
       "      <th>0</th>\n",
       "      <td>40.847672</td>\n",
       "      <td>-73.869316</td>\n",
       "      <td>4.508813</td>\n",
       "      <td>dr72rh4</td>\n",
       "    </tr>\n",
       "    <tr>\n",
       "      <th>1</th>\n",
       "      <td>40.847668</td>\n",
       "      <td>-73.869316</td>\n",
       "      <td>5.462420</td>\n",
       "      <td>dr72rh4</td>\n",
       "    </tr>\n",
       "    <tr>\n",
       "      <th>2</th>\n",
       "      <td>40.847649</td>\n",
       "      <td>-73.869362</td>\n",
       "      <td>5.154881</td>\n",
       "      <td>dr72rh1</td>\n",
       "    </tr>\n",
       "    <tr>\n",
       "      <th>3</th>\n",
       "      <td>40.847649</td>\n",
       "      <td>-73.869362</td>\n",
       "      <td>4.508813</td>\n",
       "      <td>dr72rh1</td>\n",
       "    </tr>\n",
       "    <tr>\n",
       "      <th>4</th>\n",
       "      <td>40.847649</td>\n",
       "      <td>-73.869362</td>\n",
       "      <td>5.539503</td>\n",
       "      <td>dr72rh1</td>\n",
       "    </tr>\n",
       "  </tbody>\n",
       "</table>\n",
       "</div>"
      ],
      "text/plain": [
       "    latitude  longitude      pm25  geohash\n",
       "0  40.847672 -73.869316  4.508813  dr72rh4\n",
       "1  40.847668 -73.869316  5.462420  dr72rh4\n",
       "2  40.847649 -73.869362  5.154881  dr72rh1\n",
       "3  40.847649 -73.869362  4.508813  dr72rh1\n",
       "4  40.847649 -73.869362  5.539503  dr72rh1"
      ]
     },
     "execution_count": 31,
     "metadata": {},
     "output_type": "execute_result"
    }
   ],
   "source": [
    "NYC_AQ = gpd.GeoDataFrame(NYC_AQ)\n",
    "NYC_AQ.head()"
   ]
  },
  {
   "cell_type": "code",
   "execution_count": 32,
   "metadata": {},
   "outputs": [
    {
     "data": {
      "text/html": [
       "<div>\n",
       "<style scoped>\n",
       "    .dataframe tbody tr th:only-of-type {\n",
       "        vertical-align: middle;\n",
       "    }\n",
       "\n",
       "    .dataframe tbody tr th {\n",
       "        vertical-align: top;\n",
       "    }\n",
       "\n",
       "    .dataframe thead th {\n",
       "        text-align: right;\n",
       "    }\n",
       "</style>\n",
       "<table border=\"1\" class=\"dataframe\">\n",
       "  <thead>\n",
       "    <tr style=\"text-align: right;\">\n",
       "      <th></th>\n",
       "      <th>latitude</th>\n",
       "      <th>longitude</th>\n",
       "      <th>pm25</th>\n",
       "      <th>geohash</th>\n",
       "      <th>geometry</th>\n",
       "      <th>index_right</th>\n",
       "      <th>neighborhood</th>\n",
       "      <th>boroughCode</th>\n",
       "      <th>borough</th>\n",
       "      <th>@id</th>\n",
       "    </tr>\n",
       "  </thead>\n",
       "  <tbody>\n",
       "    <tr>\n",
       "      <th>0</th>\n",
       "      <td>40.847672</td>\n",
       "      <td>-73.869316</td>\n",
       "      <td>4.508813</td>\n",
       "      <td>dr72rh4</td>\n",
       "      <td>POINT (-73.86932 40.84767)</td>\n",
       "      <td>38</td>\n",
       "      <td>Bronx Park</td>\n",
       "      <td>2</td>\n",
       "      <td>Bronx</td>\n",
       "      <td>http://nyc.pediacities.com/Resource/Neighborho...</td>\n",
       "    </tr>\n",
       "    <tr>\n",
       "      <th>1</th>\n",
       "      <td>40.847668</td>\n",
       "      <td>-73.869316</td>\n",
       "      <td>5.462420</td>\n",
       "      <td>dr72rh4</td>\n",
       "      <td>POINT (-73.86932 40.84767)</td>\n",
       "      <td>38</td>\n",
       "      <td>Bronx Park</td>\n",
       "      <td>2</td>\n",
       "      <td>Bronx</td>\n",
       "      <td>http://nyc.pediacities.com/Resource/Neighborho...</td>\n",
       "    </tr>\n",
       "    <tr>\n",
       "      <th>2</th>\n",
       "      <td>40.847649</td>\n",
       "      <td>-73.869362</td>\n",
       "      <td>5.154881</td>\n",
       "      <td>dr72rh1</td>\n",
       "      <td>POINT (-73.86936 40.84765)</td>\n",
       "      <td>38</td>\n",
       "      <td>Bronx Park</td>\n",
       "      <td>2</td>\n",
       "      <td>Bronx</td>\n",
       "      <td>http://nyc.pediacities.com/Resource/Neighborho...</td>\n",
       "    </tr>\n",
       "    <tr>\n",
       "      <th>3</th>\n",
       "      <td>40.847649</td>\n",
       "      <td>-73.869362</td>\n",
       "      <td>4.508813</td>\n",
       "      <td>dr72rh1</td>\n",
       "      <td>POINT (-73.86936 40.84765)</td>\n",
       "      <td>38</td>\n",
       "      <td>Bronx Park</td>\n",
       "      <td>2</td>\n",
       "      <td>Bronx</td>\n",
       "      <td>http://nyc.pediacities.com/Resource/Neighborho...</td>\n",
       "    </tr>\n",
       "    <tr>\n",
       "      <th>4</th>\n",
       "      <td>40.847649</td>\n",
       "      <td>-73.869362</td>\n",
       "      <td>5.539503</td>\n",
       "      <td>dr72rh1</td>\n",
       "      <td>POINT (-73.86936 40.84765)</td>\n",
       "      <td>38</td>\n",
       "      <td>Bronx Park</td>\n",
       "      <td>2</td>\n",
       "      <td>Bronx</td>\n",
       "      <td>http://nyc.pediacities.com/Resource/Neighborho...</td>\n",
       "    </tr>\n",
       "  </tbody>\n",
       "</table>\n",
       "</div>"
      ],
      "text/plain": [
       "    latitude  longitude      pm25  geohash                    geometry  \\\n",
       "0  40.847672 -73.869316  4.508813  dr72rh4  POINT (-73.86932 40.84767)   \n",
       "1  40.847668 -73.869316  5.462420  dr72rh4  POINT (-73.86932 40.84767)   \n",
       "2  40.847649 -73.869362  5.154881  dr72rh1  POINT (-73.86936 40.84765)   \n",
       "3  40.847649 -73.869362  4.508813  dr72rh1  POINT (-73.86936 40.84765)   \n",
       "4  40.847649 -73.869362  5.539503  dr72rh1  POINT (-73.86936 40.84765)   \n",
       "\n",
       "   index_right neighborhood boroughCode borough  \\\n",
       "0           38   Bronx Park           2   Bronx   \n",
       "1           38   Bronx Park           2   Bronx   \n",
       "2           38   Bronx Park           2   Bronx   \n",
       "3           38   Bronx Park           2   Bronx   \n",
       "4           38   Bronx Park           2   Bronx   \n",
       "\n",
       "                                                 @id  \n",
       "0  http://nyc.pediacities.com/Resource/Neighborho...  \n",
       "1  http://nyc.pediacities.com/Resource/Neighborho...  \n",
       "2  http://nyc.pediacities.com/Resource/Neighborho...  \n",
       "3  http://nyc.pediacities.com/Resource/Neighborho...  \n",
       "4  http://nyc.pediacities.com/Resource/Neighborho...  "
      ]
     },
     "execution_count": 32,
     "metadata": {},
     "output_type": "execute_result"
    }
   ],
   "source": [
    "NYC_AQ = gpd.GeoDataFrame(NYC_AQ, geometry = gpd.points_from_xy(x=NYC_AQ['longitude'], y=NYC_AQ['latitude']))\n",
    "NYC_AQ = NYC_AQ.set_crs('EPSG:4326')\n",
    "\n",
    "NYC_AQ_geojson = gpd.sjoin(NYC_AQ, NYC_geojson, predicate=\"within\")\n",
    "NYC_AQ_geojson.head()"
   ]
  },
  {
   "cell_type": "code",
   "execution_count": 33,
   "metadata": {},
   "outputs": [
    {
     "name": "stdout",
     "output_type": "stream",
     "text": [
      "[4.50881326 5.46242028 5.15488086 ... 9.68400335 7.86017365 3.11785864]\n"
     ]
    }
   ],
   "source": [
    "# prompt: display all unique pm25 values in the last column of AQ_points\n",
    "unique_pm25_values = NYC_AQ_geojson['pm25'].unique()\n",
    "print(unique_pm25_values)"
   ]
  },
  {
   "cell_type": "code",
   "execution_count": 34,
   "metadata": {},
   "outputs": [
    {
     "name": "stdout",
     "output_type": "stream",
     "text": [
      "pm25\n",
      "4.348238    6000\n",
      "2.274121    2018\n",
      "2.199988    1767\n",
      "2.220632    1233\n",
      "4.311103    1078\n",
      "            ... \n",
      "5.635506       1\n",
      "3.996444       1\n",
      "5.608798       1\n",
      "3.566272       1\n",
      "3.117859       1\n",
      "Name: count, Length: 35045, dtype: int64\n"
     ]
    }
   ],
   "source": [
    "# prompt: display the total value count of pm25\n",
    "pm25_value_counts = NYC_AQ_geojson['pm25'].value_counts()\n",
    "print(pm25_value_counts)"
   ]
  },
  {
   "cell_type": "code",
   "execution_count": 35,
   "metadata": {},
   "outputs": [
    {
     "name": "stdout",
     "output_type": "stream",
     "text": [
      "12.74441924\n"
     ]
    },
    {
     "data": {
      "text/plain": [
       "1.568473024"
      ]
     },
     "execution_count": 35,
     "metadata": {},
     "output_type": "execute_result"
    }
   ],
   "source": [
    "max_value = NYC_AQ_geojson['pm25'].max()\n",
    "min_value = NYC_AQ_geojson['pm25'].min()\n",
    "print(max_value)\n",
    "min_value\n"
   ]
  },
  {
   "cell_type": "code",
   "execution_count": 36,
   "metadata": {},
   "outputs": [],
   "source": [
    "NYC_AQ_geojson = NYC_AQ_geojson.to_crs('EPSG:32618')"
   ]
  },
  {
   "cell_type": "code",
   "execution_count": 37,
   "metadata": {},
   "outputs": [],
   "source": [
    "AQ_NYC_raster = make_geocube(\n",
    "        vector_data = NYC_AQ_geojson,\n",
    "        measurements = ['pm25'],\n",
    "        resolution = (-5, 5),\n",
    "        rasterize_function=partial(rasterize_image, merge_alg=MergeAlg.add),\n",
    "        fill = 0,\n",
    "        output_crs=\"EPSG:32618\")"
   ]
  },
  {
   "cell_type": "code",
   "execution_count": 38,
   "metadata": {},
   "outputs": [],
   "source": [
    "AQ_NYC_raster[\"pm25\"].rio.to_raster(r'./output_samples/AQ_NYC_raster_overlayed_pm25.tiff')"
   ]
  },
  {
   "cell_type": "code",
   "execution_count": 42,
   "metadata": {},
   "outputs": [
    {
     "data": {
      "image/png": "[encoded data removed]",
      "text/plain": [
       "<Figure size 1000x1000 with 2 Axes>"
      ]
     },
     "metadata": {},
     "output_type": "display_data"
    }
   ],
   "source": [
    "# Load the raster file\n",
    "with rio.open(\"./output_samples/AQ_NYC_raster_overlayed_pm25.tiff\") as src:\n",
    "    data = src.read(1)  # read the first band\n",
    "\n",
    "# Set up the figure\n",
    "plt2.figure(figsize=(10, 10))\n",
    "\n",
    "# Display the raster data with a colormap\n",
    "plt2.imshow(data, cmap='viridis', vmin=1.568473024, vmax=12.74441924)  # set the range of the colormap\n",
    "plt2.colorbar(label='PM2.5 Levels')  # add a color bar\n",
    "\n",
    "# Add titles and labels if necessary\n",
    "plt2.title('PM2.5 Distribution in NYC')\n",
    "plt2.xlabel('Longitude Index')\n",
    "plt2.ylabel('Latitude Index')\n",
    "\n",
    "# Show the plot\n",
    "plt2.show()"
   ]
  },
  {
   "cell_type": "code",
   "execution_count": 44,
   "metadata": {},
   "outputs": [],
   "source": [
    "landsat = rio.open(\"./output_samples/AQ_NYC_raster_overlayed_pm25.tiff\")"
   ]
  },
  {
   "cell_type": "code",
   "execution_count": 45,
   "metadata": {},
   "outputs": [
    {
     "data": {
      "text/plain": [
       "CRS.from_epsg(32618)"
      ]
     },
     "execution_count": 45,
     "metadata": {},
     "output_type": "execute_result"
    }
   ],
   "source": [
    "# The CRS\n",
    "landsat.crs"
   ]
  },
  {
   "cell_type": "code",
   "execution_count": 46,
   "metadata": {},
   "outputs": [
    {
     "data": {
      "text/plain": [
       "BoundingBox(left=589990.0, bottom=4507295.0, right=599345.0, top=4528735.0)"
      ]
     },
     "execution_count": 46,
     "metadata": {},
     "output_type": "execute_result"
    }
   ],
   "source": [
    "# The bounds\n",
    "landsat.bounds"
   ]
  },
  {
   "cell_type": "code",
   "execution_count": 47,
   "metadata": {},
   "outputs": [
    {
     "data": {
      "text/plain": [
       "1"
      ]
     },
     "execution_count": 47,
     "metadata": {},
     "output_type": "execute_result"
    }
   ],
   "source": [
    "# The number of bands available\n",
    "landsat.count"
   ]
  },
  {
   "cell_type": "code",
   "execution_count": 48,
   "metadata": {},
   "outputs": [
    {
     "data": {
      "text/plain": [
       "(1,)"
      ]
     },
     "execution_count": 48,
     "metadata": {},
     "output_type": "execute_result"
    }
   ],
   "source": [
    "# The band numbers that are available\n",
    "landsat.indexes"
   ]
  },
  {
   "cell_type": "code",
   "execution_count": 49,
   "metadata": {},
   "outputs": [
    {
     "data": {
      "text/plain": [
       "(4288, 1871)"
      ]
     },
     "execution_count": 49,
     "metadata": {},
     "output_type": "execute_result"
    }
   ],
   "source": [
    "# Number of pixels in the x and y directions\n",
    "landsat.shape"
   ]
  },
  {
   "cell_type": "code",
   "execution_count": 50,
   "metadata": {},
   "outputs": [
    {
     "data": {
      "text/plain": [
       "Affine(5.0, 0.0, 589990.0,\n",
       "       0.0, -5.0, 4528735.0)"
      ]
     },
     "execution_count": 50,
     "metadata": {},
     "output_type": "execute_result"
    }
   ],
   "source": [
    "# The 6 parameters that map from pixel to real space\n",
    "landsat.transform"
   ]
  }
 ],
 "metadata": {
  "kernelspec": {
   "display_name": "raster",
   "language": "python",
   "name": "python3"
  },
  "language_info": {
   "codemirror_mode": {
    "name": "ipython",
    "version": 3
   },
   "file_extension": ".py",
   "mimetype": "text/x-python",
   "name": "python",
   "nbconvert_exporter": "python",
   "pygments_lexer": "ipython3",
   "version": "3.12.3"
  }
 },
 "nbformat": 4,
 "nbformat_minor": 2
}
