{
 "cells": [
  {
   "cell_type": "code",
   "execution_count": null,
   "metadata": {},
   "outputs": [],
   "source": [
    "import pandas as pd\n",
    "import geopandas as gpd\n",
    "from geocube.api.core import make_geocube\n",
    "from geocube.rasterize import rasterize_image\n",
    "from functools import partial\n",
    "from rasterio.enums import MergeAlg\n",
    "from shapely.geometry import LineString\n",
    "import matplotlib as plt\n",
    "import matplotlib.colors as mcolors\n",
    "import matplotlib.pyplot as plt2\n",
    "import rasterio as rio\n",
    "import numpy as np\n",
    "from scipy import stats\n",
    "import requests\n",
    "from io import BytesIO\n",
    "from zipfile import ZipFile\n",
    "from functools import partial\n",
    "import pygeohash as gh\n",
    "from shapely.geometry import Polygon"
   ]
  },
  {
   "cell_type": "code",
   "execution_count": null,
   "metadata": {},
   "outputs": [],
   "source": [
    "url = 'https://raw.githubusercontent.com/IsamAljawarneh/datasets/master/data/NYC_AQ.csv'\n",
    "NYC_AQ = pd.read_csv(url)\n",
    "\n",
    "url = 'https://raw.githubusercontent.com/IsamAljawarneh/datasets/master/data/nyc_polygon.geojson'\n",
    "NYC_geojson = gpd.read_file(url)\n"
   ]
  },
  {
   "cell_type": "code",
   "execution_count": null,
   "metadata": {},
   "outputs": [],
   "source": [
    "def remove_outliers_zscore(geodataframe, threshold=3):\n",
    "    # Extracting coordinates from geometry\n",
    "    coords = np.array([(point.x, point.y) for point in geodataframe.geometry])\n",
    "\n",
    "    # Calculating z-scores for both longitude and latitude\n",
    "    z_scores_lon = np.abs(stats.zscore(coords[:, 0]))\n",
    "    z_scores_lat = np.abs(stats.zscore(coords[:, 1]))\n",
    "\n",
    "    # Find outliers for both longitude and latitude\n",
    "    outliers = (z_scores_lon > threshold) | (z_scores_lat > threshold)\n",
    "\n",
    "    # Remove outliers\n",
    "    cleaned_geodataframe = geodataframe[~outliers].copy()\n",
    "    return cleaned_geodataframe"
   ]
  },
  {
   "cell_type": "code",
   "execution_count": null,
   "metadata": {},
   "outputs": [],
   "source": [
    "NYC_AQ"
   ]
  },
  {
   "cell_type": "code",
   "execution_count": null,
   "metadata": {},
   "outputs": [],
   "source": [
    "print(NYC_geojson.head())"
   ]
  },
  {
   "cell_type": "code",
   "execution_count": null,
   "metadata": {},
   "outputs": [],
   "source": [
    "columns_to_keep = ['latitude', 'longitude', 'pm25']\n",
    "NYC_AQ = NYC_AQ[columns_to_keep]\n",
    "\n",
    "NYC_AQ = NYC_AQ[(NYC_AQ['latitude'] != 0) & (NYC_AQ['longitude'] != 0)]\n",
    "\n",
    "NYC_AQ['longitude'] = pd.to_numeric(NYC_AQ['longitude'])\n",
    "NYC_AQ['latitude'] = pd.to_numeric(NYC_AQ['latitude'])\n",
    "\n",
    "print(NYC_AQ)"
   ]
  },
  {
   "cell_type": "code",
   "execution_count": null,
   "metadata": {},
   "outputs": [],
   "source": [
    "geohash_precision = 7\n",
    "NYC_AQ['geohash']=NYC_AQ.apply(lambda x: gh.encode(x.latitude, x.longitude, precision=geohash_precision), axis=1)\n",
    "NYC_AQ.head()"
   ]
  },
  {
   "cell_type": "code",
   "execution_count": null,
   "metadata": {},
   "outputs": [],
   "source": [
    "avg_pm25 = NYC_AQ.groupby('geohash').agg({'pm25': 'mean'}).reset_index()\n",
    "avg_pm25.rename(columns={'pm25': 'avg_pm25'}, inplace=True)\n",
    "avg_pm25"
   ]
  },
  {
   "cell_type": "code",
   "execution_count": null,
   "metadata": {},
   "outputs": [],
   "source": [
    "NYC_AQ = NYC_AQ.merge(avg_pm25, on='geohash', how='left')\n",
    "NYC_AQ"
   ]
  },
  {
   "cell_type": "code",
   "execution_count": null,
   "metadata": {},
   "outputs": [],
   "source": [
    "NYC_AQ = gpd.GeoDataFrame(NYC_AQ)\n",
    "NYC_AQ.head()"
   ]
  },
  {
   "cell_type": "code",
   "execution_count": null,
   "metadata": {},
   "outputs": [],
   "source": [
    "NYC_AQ = gpd.GeoDataFrame(NYC_AQ, geometry = gpd.points_from_xy(x=NYC_AQ['longitude'], y=NYC_AQ['latitude']))\n",
    "NYC_AQ = NYC_AQ.set_crs('EPSG:4326')\n",
    "NYC_AQ\n",
    "\n"
   ]
  },
  {
   "cell_type": "code",
   "execution_count": null,
   "metadata": {},
   "outputs": [],
   "source": [
    "def decode_geohash(geohash):\n",
    "    \"\"\"Decode the geohash to its bounding box (longitude and latitude ranges).\"\"\"\n",
    "\n",
    "    # Geohash character-to-binary mapping\n",
    "    base32_map = '0123456789bcdefghjkmnpqrstuvwxyz'\n",
    "    base32_dict = {char: \"{:05b}\".format(i) for i, char in enumerate(base32_map)}\n",
    "\n",
    "    # Split geohash into bits for longitude and latitude\n",
    "    bits = ''.join(base32_dict[c] for c in geohash)\n",
    "    lon_bits = bits[::2]\n",
    "    lat_bits = bits[1::2]\n",
    "\n",
    "    # Function to decode bits to a range\n",
    "    def decode_range(bits, range_min, range_max):\n",
    "        for bit in bits:\n",
    "            mid = (range_min + range_max) / 2\n",
    "            if bit == '1':\n",
    "                range_min = mid\n",
    "            else:\n",
    "                range_max = mid\n",
    "        return (range_min, range_max)\n",
    "\n",
    "    # Decode longitude and latitude ranges\n",
    "    lon_range = decode_range(lon_bits, -180, 180)\n",
    "    lat_range = decode_range(lat_bits, -90, 90)\n",
    "\n",
    "    # Return the bounding box as a dictionary\n",
    "    return {\n",
    "        'w': lon_range[0],\n",
    "        'e': lon_range[1],\n",
    "        's': lat_range[0],\n",
    "        'n': lat_range[1],\n",
    "    }"
   ]
  },
  {
   "cell_type": "code",
   "execution_count": null,
   "metadata": {},
   "outputs": [],
   "source": [
    "temp = pd.DataFrame(columns=['bbox'])\n",
    "temp['bbox'] = NYC_AQ['geohash'].apply(decode_geohash)\n",
    "# Convert bounding boxes to polygons\n",
    "temp['geometry'] = temp['bbox'].apply(lambda b: Polygon([\n",
    "    (b['w'], b['s']),\n",
    "    (b['w'], b['n']),\n",
    "    (b['e'], b['n']),\n",
    "    (b['e'], b['s'])\n",
    "]))\n",
    "NYC_AQ = gpd.GeoDataFrame(NYC_AQ, geometry = temp['geometry'])\n",
    "NYC_AQ"
   ]
  },
  {
   "cell_type": "code",
   "execution_count": null,
   "metadata": {},
   "outputs": [],
   "source": [
    "NYC_AQ_geojson = gpd.sjoin(NYC_AQ, NYC_geojson, predicate=\"within\")\n",
    "NYC_AQ_geojson"
   ]
  },
  {
   "cell_type": "code",
   "execution_count": null,
   "metadata": {},
   "outputs": [],
   "source": [
    "# sampled_geohash_data = NYC_AQ_geojson.groupby('geohash').apply(lambda x: x.sample(frac=0.6))\n",
    "# sampled_geohash_data"
   ]
  },
  {
   "cell_type": "code",
   "execution_count": null,
   "metadata": {},
   "outputs": [],
   "source": [
    "print(len(NYC_AQ['geohash'].unique()))"
   ]
  },
  {
   "cell_type": "code",
   "execution_count": null,
   "metadata": {},
   "outputs": [],
   "source": [
    "print(NYC_AQ['geohash'].value_counts().head(70))\n"
   ]
  },
  {
   "cell_type": "code",
   "execution_count": null,
   "metadata": {},
   "outputs": [],
   "source": [
    "pm25_avg_max = NYC_AQ['avg_pm25'].max()\n",
    "pm25_avg_min = NYC_AQ['avg_pm25'].min()\n",
    "print(pm25_avg_max)\n",
    "print(pm25_avg_min)"
   ]
  },
  {
   "cell_type": "code",
   "execution_count": null,
   "metadata": {},
   "outputs": [],
   "source": [
    "NYC_AQ_geojson = NYC_AQ_geojson.to_crs('EPSG:32618')"
   ]
  },
  {
   "cell_type": "code",
   "execution_count": null,
   "metadata": {},
   "outputs": [],
   "source": [
    "unique_polygon = NYC_AQ.drop_duplicates(subset='geometry')\n",
    "unique_polygon"
   ]
  },
  {
   "cell_type": "code",
   "execution_count": null,
   "metadata": {},
   "outputs": [],
   "source": [
    "unique_lengths = unique_polygon['geohash'].astype(str).apply(len).unique()\n",
    "unique_lengths"
   ]
  },
  {
   "cell_type": "code",
   "execution_count": null,
   "metadata": {},
   "outputs": [],
   "source": [
    "unique_polygon['layer2'] = 7\n",
    "unique_polygon"
   ]
  },
  {
   "cell_type": "code",
   "execution_count": null,
   "metadata": {},
   "outputs": [],
   "source": [
    "AQ_NYC_raster = make_geocube(\n",
    "        vector_data = unique_polygon,\n",
    "        measurements = ['avg_pm25', 'layer2'],\n",
    "        resolution = (-10, 10),\n",
    "        rasterize_function=partial(rasterize_image, merge_alg=MergeAlg.add),\n",
    "        fill= 0,\n",
    "        output_crs=\"EPSG:32618\")"
   ]
  },
  {
   "cell_type": "code",
   "execution_count": null,
   "metadata": {},
   "outputs": [],
   "source": [
    "image_path = r'./output_samples/2layers.tiff'\n",
    "AQ_NYC_raster.rio.to_raster(image_path)"
   ]
  },
  {
   "cell_type": "code",
   "execution_count": null,
   "metadata": {},
   "outputs": [],
   "source": [
    "# Load the raster file\n",
    "with rio.open(image_path) as src:\n",
    "    data = src.read(1)  # read the first band\n",
    "\n",
    "# Set up the figure\n",
    "plt2.figure(figsize=(10, 10))\n",
    "\n",
    "# Display the raster data with a colormap\n",
    "plt2.imshow(data, cmap='viridis', vmin=pm25_avg_min, vmax=pm25_avg_max)  # set the range of the colormap\n",
    "plt2.colorbar(label='PM2.5 Levels')  # add a color bar\n",
    "\n",
    "# Add titles and labels if necessary\n",
    "plt2.title('PM2.5 Distribution in NYC')\n",
    "plt2.xlabel('Longitude Index')\n",
    "plt2.ylabel('Latitude Index')\n",
    "\n",
    "# Show the plot\n",
    "plt2.show()"
   ]
  },
  {
   "cell_type": "code",
   "execution_count": null,
   "metadata": {},
   "outputs": [],
   "source": [
    "# Load the raster file\n",
    "with rio.open(pm25_avg_max) as src:\n",
    "    data = src.read(1)  # read the first band\n",
    "\n",
    "# Set up the figure\n",
    "plt2.figure(figsize=(10, 10))\n",
    "\n",
    "# Display the raster data with a colormap\n",
    "plt2.imshow(data, cmap='viridis', vmin=2.0657861653999996, vmax=12.31804457)  # set the range of the colormap\n",
    "plt2.colorbar(label='PM2.5 Levels')  # add a color bar\n",
    "\n",
    "# Add titles and labels if necessary\n",
    "plt2.title('PM2.5 Distribution in NYC')\n",
    "plt2.xlabel('Longitude Index')\n",
    "plt2.ylabel('Latitude Index')\n",
    "\n",
    "# Show the plot\n",
    "plt2.show()"
   ]
  },
  {
   "cell_type": "code",
   "execution_count": null,
   "metadata": {},
   "outputs": [],
   "source": [
    "landsat = rio.open(\"./output_samples/AQ_NYC_raster_overlayed_pm25.tiff\")"
   ]
  },
  {
   "cell_type": "code",
   "execution_count": null,
   "metadata": {},
   "outputs": [],
   "source": [
    "# The CRS\n",
    "landsat.crs"
   ]
  },
  {
   "cell_type": "code",
   "execution_count": null,
   "metadata": {},
   "outputs": [],
   "source": [
    "# The bounds\n",
    "landsat.bounds"
   ]
  },
  {
   "cell_type": "code",
   "execution_count": null,
   "metadata": {},
   "outputs": [],
   "source": [
    "# The number of bands available\n",
    "landsat.count"
   ]
  },
  {
   "cell_type": "code",
   "execution_count": null,
   "metadata": {},
   "outputs": [],
   "source": [
    "# The band numbers that are available\n",
    "landsat.indexes"
   ]
  },
  {
   "cell_type": "code",
   "execution_count": null,
   "metadata": {},
   "outputs": [],
   "source": [
    "# Number of pixels in the x and y directions\n",
    "landsat.shape"
   ]
  },
  {
   "cell_type": "code",
   "execution_count": null,
   "metadata": {},
   "outputs": [],
   "source": [
    "# The 6 parameters that map from pixel to real space\n",
    "landsat.transform"
   ]
  }
 ],
 "metadata": {
  "kernelspec": {
   "display_name": "raster",
   "language": "python",
   "name": "python3"
  },
  "language_info": {
   "codemirror_mode": {
    "name": "ipython",
    "version": 3
   },
   "file_extension": ".py",
   "mimetype": "text/x-python",
   "name": "python",
   "nbconvert_exporter": "python",
   "pygments_lexer": "ipython3",
   "version": "3.12.3"
  }
 },
 "nbformat": 4,
 "nbformat_minor": 2
}
