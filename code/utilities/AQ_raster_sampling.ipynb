{
 "cells": [
  {
   "cell_type": "code",
   "execution_count": null,
   "metadata": {},
   "outputs": [],
   "source": [
    "import pandas as pd\n",
    "import geopandas as gpd\n",
    "from geocube.api.core import make_geocube\n",
    "from geocube.rasterize import rasterize_image\n",
    "from functools import partial\n",
    "from rasterio.enums import MergeAlg\n",
    "from shapely.geometry import LineString\n",
    "import matplotlib as plt\n",
    "import matplotlib.colors as mcolors\n",
    "import matplotlib.pyplot as plt2\n",
    "import rasterio as rio\n",
    "import numpy as np\n",
    "from scipy import stats\n",
    "import requests\n",
    "from io import BytesIO\n",
    "from zipfile import ZipFile\n",
    "from functools import partial\n",
    "import pygeohash as gh\n",
    "from shapely.geometry import Polygon"
   ]
  },
  {
   "cell_type": "code",
   "execution_count": null,
   "metadata": {},
   "outputs": [],
   "source": [
    "url = 'https://raw.githubusercontent.com/IsamAljawarneh/datasets/master/data/NYC_AQ.csv'\n",
    "NYC_AQ = pd.read_csv(url)\n",
    "\n",
    "url = 'https://raw.githubusercontent.com/IsamAljawarneh/datasets/master/data/nyc_polygon.geojson'\n",
    "NYC_geojson = gpd.read_file(url)"
   ]
  },
  {
   "cell_type": "code",
   "execution_count": null,
   "metadata": {},
   "outputs": [],
   "source": [
    "print(NYC_AQ.head())\n",
    "print(NYC_geojson.head())"
   ]
  },
  {
   "cell_type": "code",
   "execution_count": null,
   "metadata": {},
   "outputs": [],
   "source": [
    "def Data_pre_processing(NYC_AQ):\n",
    "    columns_to_keep = ['latitude', 'longitude', 'pm25']\n",
    "    NYC_AQ = NYC_AQ[columns_to_keep]\n",
    "\n",
    "    NYC_AQ = NYC_AQ[(NYC_AQ['latitude'] != 0) & (NYC_AQ['longitude'] != 0)]\n",
    "\n",
    "    NYC_AQ['longitude'] = pd.to_numeric(NYC_AQ['longitude'])\n",
    "    NYC_AQ['latitude'] = pd.to_numeric(NYC_AQ['latitude'])\n",
    "    return NYC_AQ"
   ]
  },
  {
   "cell_type": "code",
   "execution_count": null,
   "metadata": {},
   "outputs": [],
   "source": [
    "NYC_AQ = Data_pre_processing(NYC_AQ)\n",
    "print(NYC_AQ)"
   ]
  },
  {
   "cell_type": "code",
   "execution_count": null,
   "metadata": {},
   "outputs": [],
   "source": [
    "geohash_precision = 7\n",
    "NYC_AQ['geohash']=NYC_AQ.apply(lambda x: gh.encode(x.latitude, x.longitude, precision=geohash_precision), axis=1)\n",
    "NYC_AQ.head()"
   ]
  },
  {
   "cell_type": "code",
   "execution_count": null,
   "metadata": {},
   "outputs": [],
   "source": [
    "NYC_AQ = gpd.GeoDataFrame(NYC_AQ, geometry = gpd.points_from_xy(x=NYC_AQ['longitude'], y=NYC_AQ['latitude']))\n",
    "NYC_AQ = NYC_AQ.set_crs('EPSG:4326')\n",
    "NYC_AQ"
   ]
  },
  {
   "cell_type": "code",
   "execution_count": null,
   "metadata": {},
   "outputs": [],
   "source": [
    "def decode_geohash(geohash):\n",
    "    \"\"\"Decode the geohash to its bounding box (longitude and latitude ranges).\"\"\"\n",
    "\n",
    "    # Geohash character-to-binary mapping\n",
    "    base32_map = '0123456789bcdefghjkmnpqrstuvwxyz'\n",
    "    base32_dict = {char: \"{:05b}\".format(i) for i, char in enumerate(base32_map)}\n",
    "\n",
    "    # Split geohash into bits for longitude and latitude\n",
    "    bits = ''.join(base32_dict[c] for c in geohash)\n",
    "    lon_bits = bits[::2]\n",
    "    lat_bits = bits[1::2]\n",
    "\n",
    "    # Function to decode bits to a range\n",
    "    def decode_range(bits, range_min, range_max):\n",
    "        for bit in bits:\n",
    "            mid = (range_min + range_max) / 2\n",
    "            if bit == '1':\n",
    "                range_min = mid\n",
    "            else:\n",
    "                range_max = mid\n",
    "        return (range_min, range_max)\n",
    "\n",
    "    # Decode longitude and latitude ranges\n",
    "    lon_range = decode_range(lon_bits, -180, 180)\n",
    "    lat_range = decode_range(lat_bits, -90, 90)\n",
    "\n",
    "    # Return the bounding box as a dictionary\n",
    "    return {\n",
    "        'w': lon_range[0],\n",
    "        'e': lon_range[1],\n",
    "        's': lat_range[0],\n",
    "        'n': lat_range[1],\n",
    "    }"
   ]
  },
  {
   "cell_type": "code",
   "execution_count": null,
   "metadata": {},
   "outputs": [],
   "source": [
    "def bbox_to_polygon(temp):\n",
    "    temp['geometry'] = temp['bbox'].apply(lambda b: Polygon([\n",
    "    (b['w'], b['s']),\n",
    "    (b['w'], b['n']),\n",
    "    (b['e'], b['n']),\n",
    "    (b['e'], b['s'])\n",
    "                    ]))\n",
    "    return temp"
   ]
  },
  {
   "cell_type": "code",
   "execution_count": null,
   "metadata": {},
   "outputs": [],
   "source": [
    "def geohash_to_polygons(NYC_AQ):\n",
    "    temp = pd.DataFrame(columns=['bbox'])\n",
    "    temp['bbox'] = NYC_AQ['geohash'].apply(decode_geohash)\n",
    "    temp = bbox_to_polygon(temp)\n",
    "    NYC_AQ = gpd.GeoDataFrame(NYC_AQ, geometry = temp['geometry'])\n",
    "    return NYC_AQ"
   ]
  },
  {
   "cell_type": "code",
   "execution_count": null,
   "metadata": {},
   "outputs": [],
   "source": [
    "NYC_AQ = geohash_to_polygons(NYC_AQ)\n",
    "NYC_AQ.head()"
   ]
  },
  {
   "cell_type": "code",
   "execution_count": null,
   "metadata": {},
   "outputs": [],
   "source": [
    "def decode_geohash(geohash):\n",
    "    latitude, longitude, _, _ = gh.decode_exactly(geohash)\n",
    "    return pd.Series([latitude, longitude])"
   ]
  },
  {
   "cell_type": "code",
   "execution_count": null,
   "metadata": {},
   "outputs": [],
   "source": [
    "NYC_AQ[['geohash_center_latitude', 'geohash_center_longitude']] = NYC_AQ['geohash'].apply(decode_geohash)\n",
    "NYC_AQ"
   ]
  },
  {
   "cell_type": "code",
   "execution_count": null,
   "metadata": {},
   "outputs": [],
   "source": [
    "NYC_AQ['geohash_encoding_key'] = geohash_precision\n",
    "NYC_AQ.head()"
   ]
  },
  {
   "cell_type": "code",
   "execution_count": null,
   "metadata": {},
   "outputs": [],
   "source": [
    "def calc_pm25_avg(sample_NYC_AQ):\n",
    "    avg_pm25 = sample_NYC_AQ.groupby('geohash', as_index=False).agg({'pm25': 'mean'})\n",
    "    avg_pm25.rename(columns={'pm25': 'avg_pm25'}, inplace=True)\n",
    "\n",
    "    sample_NYC_AQ = sample_NYC_AQ.merge(avg_pm25, on = 'geohash', how = 'left')\n",
    "    \n",
    "    return sample_NYC_AQ"
   ]
  },
  {
   "cell_type": "code",
   "execution_count": null,
   "metadata": {},
   "outputs": [],
   "source": [
    "sampling_fraction = 1\n",
    "samples_number = 1\n",
    "sampels_path = r'./generated_samples/'\n",
    "# %%time\n",
    "for i in range(samples_number):\n",
    "    NYC_AQ_sample = NYC_AQ.groupby('geohash', as_index=False).apply(lambda x: x.sample(frac = sampling_fraction))\n",
    "    \n",
    "    NYC_AQ_sample = calc_pm25_avg(NYC_AQ_sample)\n",
    "    NYC_AQ_sample = NYC_AQ_sample.drop_duplicates(subset='geohash')\n",
    "    AQ_NYC_raster = make_geocube(\n",
    "        vector_data = NYC_AQ_sample,\n",
    "        measurements = ['avg_pm25', 'geohash_center_latitude', 'geohash_center_longitude', 'geohash_encoding_key'],\n",
    "        resolution = (-10, 10),\n",
    "        rasterize_function=partial(rasterize_image, merge_alg=MergeAlg.add),\n",
    "        fill= 0,\n",
    "        output_crs=\"EPSG:32618\")\n",
    "\n",
    "    imagename = f'AQ_NYC_sample_{i+1}.tiff'  \n",
    "    full_path = f'{sampels_path}{imagename}'\n",
    "    AQ_NYC_raster.rio.to_raster(full_path)\n",
    "\n",
    "\n"
   ]
  },
  {
   "cell_type": "code",
   "execution_count": null,
   "metadata": {},
   "outputs": [],
   "source": [
    "# Load the raster file\n",
    "with rio.open(full_path) as src:\n",
    "    data = src.read(1)  # read the first band\n",
    "\n",
    "# Set up the figure\n",
    "plt2.figure(figsize=(10, 10))\n",
    "\n",
    "# Display the raster data with a colormap\n",
    "plt2.imshow(data, cmap='viridis', vmin=0, vmax=10)  # set the range of the colormap\n",
    "plt2.colorbar(label='PM2.5 Levels')  # add a color bar\n",
    "\n",
    "# Add titles and labels if necessary\n",
    "plt2.title('PM2.5 Distribution in NYC')\n",
    "plt2.xlabel('Longitude Index')\n",
    "plt2.ylabel('Latitude Index')\n",
    "\n",
    "# Show the plot\n",
    "plt2.show()"
   ]
  },
  {
   "cell_type": "code",
   "execution_count": null,
   "metadata": {},
   "outputs": [],
   "source": [
    "# Load the raster file\n",
    "with rio.open(r\"C:\\Users\\user\\Desktop\\raster\\ds-project-raster-compare\\code\\generated_samples\\AQ_NYC_sample_3.tiff\") as src:\n",
    "    data = src.read(1)  # read the first band\n",
    "\n",
    "# Set up the figure\n",
    "plt2.figure(figsize=(10, 10))\n",
    "\n",
    "# Display the raster data with a colormap\n",
    "plt2.imshow(data, cmap='viridis', vmin=0, vmax=10)  # set the range of the colormap\n",
    "plt2.colorbar(label='PM2.5 Levels')  # add a color bar\n",
    "\n",
    "# Add titles and labels if necessary\n",
    "plt2.title('PM2.5 Distribution in NYC')\n",
    "plt2.xlabel('Longitude Index')\n",
    "plt2.ylabel('Latitude Index')\n",
    "\n",
    "# Show the plot\n",
    "plt2.show()"
   ]
  }
 ],
 "metadata": {
  "kernelspec": {
   "display_name": "raster",
   "language": "python",
   "name": "python3"
  },
  "language_info": {
   "codemirror_mode": {
    "name": "ipython",
    "version": 3
   },
   "file_extension": ".py",
   "mimetype": "text/x-python",
   "name": "python",
   "nbconvert_exporter": "python",
   "pygments_lexer": "ipython3",
   "version": "3.12.3"
  }
 },
 "nbformat": 4,
 "nbformat_minor": 2
}
