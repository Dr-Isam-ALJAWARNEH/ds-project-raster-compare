{
 "cells": [
  {
   "cell_type": "code",
   "execution_count": null,
   "metadata": {},
   "outputs": [],
   "source": [
    "import pandas as pd\n",
    "import geopandas as gpd\n",
    "from geocube.api.core import make_geocube\n",
    "from geocube.rasterize import rasterize_image\n",
    "from functools import partial\n",
    "from rasterio.enums import MergeAlg\n",
    "from shapely.geometry import LineString\n",
    "import matplotlib as plt\n",
    "import matplotlib.colors as mcolors\n",
    "import matplotlib.pyplot as plt2\n",
    "import rasterio as rio\n",
    "import numpy as np\n",
    "from scipy import stats\n",
    "import requests\n",
    "from io import BytesIO\n",
    "from zipfile import ZipFile"
   ]
  },
  {
   "cell_type": "code",
   "execution_count": null,
   "metadata": {},
   "outputs": [],
   "source": [
    "url = 'https://raw.githubusercontent.com/IsamAljawarneh/datasets/master/data/NYC_AQ.csv'\n",
    "\n",
    "# Read the CSV file into a DataFrame\n",
    "NYC_AQ = pd.read_csv(url)\n",
    "\n",
    "# Display the first few rows of the DataFrame\n",
    "print(NYC_AQ.head())"
   ]
  },
  {
   "cell_type": "code",
   "execution_count": null,
   "metadata": {},
   "outputs": [],
   "source": [
    "columns_to_keep = ['latitude', 'longitude', 'pm25']\n",
    "NYC_AQ = NYC_AQ[columns_to_keep]\n",
    "\n",
    "print(NYC_AQ)"
   ]
  },
  {
   "cell_type": "code",
   "execution_count": null,
   "metadata": {},
   "outputs": [],
   "source": [
    "# Convert Long Lat into numeric type\n",
    "NYC_AQ['longitude'] = pd.to_numeric(NYC_AQ['longitude'])\n",
    "NYC_AQ['latitude'] = pd.to_numeric(NYC_AQ['latitude'])"
   ]
  },
  {
   "cell_type": "code",
   "execution_count": null,
   "metadata": {},
   "outputs": [],
   "source": [
    "AQ_points = gpd.GeoDataFrame(geometry = gpd.points_from_xy(x=NYC_AQ['longitude'], y=NYC_AQ['latitude']))"
   ]
  },
  {
   "cell_type": "code",
   "execution_count": null,
   "metadata": {},
   "outputs": [],
   "source": [
    "AQ_points = AQ_points.set_crs('EPSG:4326')\n",
    "AQ_points = AQ_points.to_crs('EPSG:3857')\n",
    "AQ_points['pm25'] = NYC_AQ['pm25']\n",
    "AQ_points = AQ_points[AQ_points.is_valid]\n",
    "AQ_points = AQ_points[~AQ_points.is_empty]\n",
    "print(AQ_points)"
   ]
  },
  {
   "cell_type": "code",
   "execution_count": null,
   "metadata": {},
   "outputs": [],
   "source": [
    "# prompt: display all unique pm25 values in the last column of AQ_points\n",
    "\n",
    "unique_pm25_values = AQ_points['pm25'].unique()\n",
    "print(unique_pm25_values)\n"
   ]
  },
  {
   "cell_type": "code",
   "execution_count": null,
   "metadata": {},
   "outputs": [],
   "source": [
    "# prompt: display the total value count of pm25\n",
    "\n",
    "pm25_value_counts = AQ_points['pm25'].value_counts()\n",
    "print(pm25_value_counts)\n"
   ]
  },
  {
   "cell_type": "code",
   "execution_count": null,
   "metadata": {},
   "outputs": [],
   "source": [
    "# Step 2: Rasterize the Data\n",
    "# Define the bounds and resolution\n",
    "bounds = AQ_points.total_bounds  # [minx, miny, maxx, maxy]\n",
    "resolution = 50\n",
    "width = int((bounds[2] - bounds[0]) / resolution)\n",
    "height = int((bounds[3] - bounds[1]) / resolution)\n",
    "\n",
    "# Create a transform\n",
    "transform = from_origin(bounds[0], bounds[3], resolution, resolution)\n",
    "\n",
    "# Create a raster array and fill it with a nodata value\n",
    "pm25_raster = np.full((height, width), -9999, dtype='float32')\n",
    "\n",
    "# Function to convert coordinates to raster indices\n",
    "def coords_to_indices(x, y, transform):\n",
    "    col, row = ~transform * (x, y)\n",
    "    return int(row), int(col)\n",
    "\n",
    "# Fill the raster array with PM2.5 values\n",
    "for point, value in zip(AQ_points.geometry, AQ_points['pm25']):\n",
    "    row, col = coords_to_indices(point.x, point.y, transform)\n",
    "    if 0 <= row < height and 0 <= col < width:\n",
    "        pm25_raster[row, col] = value\n",
    "\n",
    "\n",
    "file_path = r'/content/drive/MyDrive/AQ_NYC_raster.tiff'\n",
    "\n",
    "# Create and write the GeoTIFF\n",
    "with rasterio.open(\n",
    "    file_path, 'w', driver='GTiff',\n",
    "    height=pm25_raster.shape[0], width=pm25_raster.shape[1],\n",
    "    count=1, dtype=pm25_raster.dtype,\n",
    "    crs='+proj=latlong', transform=transform,\n",
    "    nodata=-9999\n",
    ") as dst:\n",
    "    dst.write(pm25_raster, 1)\n",
    "\n",
    "# Plotting the data\n",
    "fig, ax = plt.subplots(figsize=(10, 10))\n",
    "show(pm25_raster, transform=transform, ax=ax, cmap='viridis', title='PM2.5 Air Quality')\n",
    "plt.show()"
   ]
  }
 ],
 "metadata": {
  "kernelspec": {
   "display_name": "raster",
   "language": "python",
   "name": "python3"
  },
  "language_info": {
   "codemirror_mode": {
    "name": "ipython",
    "version": 3
   },
   "file_extension": ".py",
   "mimetype": "text/x-python",
   "name": "python",
   "nbconvert_exporter": "python",
   "pygments_lexer": "ipython3",
   "version": "3.12.3"
  }
 },
 "nbformat": 4,
 "nbformat_minor": 2
}
