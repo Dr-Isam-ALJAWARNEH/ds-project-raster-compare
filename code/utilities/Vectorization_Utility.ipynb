{
  "nbformat": 4,
  "nbformat_minor": 0,
  "metadata": {
    "colab": {
      "provenance": []
    },
    "kernelspec": {
      "name": "python3",
      "display_name": "Python 3"
    },
    "language_info": {
      "name": "python"
    }
  },
  "cells": [
    {
      "cell_type": "code",
      "source": [
        "from google.colab import drive\n",
        "\n",
        "drive.mount('/content/drive')"
      ],
      "metadata": {
        "colab": {
          "base_uri": "https://localhost:8080/"
        },
        "id": "GANJW5q3EvPP",
        "outputId": "8937394a-b1b2-4976-8d73-1b7576fc5f95"
      },
      "execution_count": 96,
      "outputs": [
        {
          "output_type": "stream",
          "name": "stdout",
          "text": [
            "Drive already mounted at /content/drive; to attempt to forcibly remount, call drive.mount(\"/content/drive\", force_remount=True).\n"
          ]
        }
      ]
    },
    {
      "cell_type": "code",
      "source": [
        "from osgeo import gdal\n",
        "import numpy as np\n",
        "image1_path = '/content/drive/My Drive/AQ_latest.tiff'\n",
        "image2_path = '/content/drive/My Drive/AQ_latest2.tiff'"
      ],
      "metadata": {
        "id": "ptRNCTrcFYL_"
      },
      "execution_count": 97,
      "outputs": []
    },
    {
      "cell_type": "code",
      "execution_count": 98,
      "metadata": {
        "id": "eEeRuesV_zqg"
      },
      "outputs": [],
      "source": [
        "image1 = gdal.Open(image1_path)\n",
        "image2 = gdal.Open(image2_path)\n",
        "\n",
        "image1_pm25_values_layer1 = image1.GetRasterBand(1).ReadAsArray()\n",
        "image1_pm25_values_layer4 = image1.GetRasterBand(4).ReadAsArray()\n",
        "\n",
        "image2_pm25_values_layer1 = image2.GetRasterBand(1).ReadAsArray()\n",
        "image2_pm25_values_layer4 = image2.GetRasterBand(4).ReadAsArray()"
      ]
    },
    {
      "cell_type": "code",
      "source": [
        "print(\"Pm average max:\", np.max(image1_pm25_values_layer1))\n",
        "print(\"Pm average min:\", np.min(image1_pm25_values_layer1[image1_pm25_values_layer1 != 0]))"
      ],
      "metadata": {
        "colab": {
          "base_uri": "https://localhost:8080/"
        },
        "id": "aHr61W9uGU4Q",
        "outputId": "aaab5c1e-80de-4225-8807-31bf69ad0ef4"
      },
      "execution_count": 99,
      "outputs": [
        {
          "output_type": "stream",
          "name": "stdout",
          "text": [
            "Pm average max: 12.49835649\n",
            "Pm average min: 2.061713825\n"
          ]
        }
      ]
    },
    {
      "cell_type": "code",
      "source": [
        "non_zero_values1 = image1_pm25_values_layer4[image1_pm25_values_layer4 != 0]\n",
        "non_zero_values2 = image2_pm25_values_layer4[image2_pm25_values_layer4 != 0]\n",
        "\n",
        "key1 = min(np.unique(non_zero_values1))\n",
        "key2 = min(np.unique(non_zero_values2))\n",
        "\n",
        "print(\"Key 1:\", key1)\n",
        "print(\"Key 2:\", key2)"
      ],
      "metadata": {
        "colab": {
          "base_uri": "https://localhost:8080/"
        },
        "id": "I8AyC1e8IF_U",
        "outputId": "994dbe48-224d-457e-f9d8-dcee025f4484"
      },
      "execution_count": 100,
      "outputs": [
        {
          "output_type": "stream",
          "name": "stdout",
          "text": [
            "Key 1: 7.0\n",
            "Key 2: 7.0\n"
          ]
        }
      ]
    },
    {
      "cell_type": "code",
      "source": [
        "lat_values1 = image1_pm25_values_layer1 = image1.GetRasterBand(2).ReadAsArray()\n",
        "long_values1 = image1_pm25_values_layer1 = image1.GetRasterBand(3).ReadAsArray()\n",
        "\n",
        "lat1 = lat_values1[lat_values1 != 0]\n",
        "long1 = long_values1[long_values1 != 0]\n",
        "\n",
        "print(\"Latitude 1:\", lat1)\n",
        "print(\"Longitude 1:\", long1)"
      ],
      "metadata": {
        "colab": {
          "base_uri": "https://localhost:8080/"
        },
        "id": "mQR0WfQBA5vi",
        "outputId": "3992517c-024e-4511-b027-0b38baedc0e5"
      },
      "execution_count": 101,
      "outputs": [
        {
          "output_type": "stream",
          "name": "stdout",
          "text": [
            "Latitude 1: [40.90415955 40.90415955 40.90415955 ... 40.7118988  40.7118988\n",
            " 40.7118988 ]\n",
            "Longitude 1: [-73.88786316 -73.88786316 -73.88786316 ... -73.93455505 -73.93455505\n",
            " -73.93455505]\n"
          ]
        }
      ]
    },
    {
      "cell_type": "code",
      "source": [
        "#CHECKING\n",
        "band1_values = image1.GetRasterBand(1).ReadAsArray()\n",
        "band2_values = image1.GetRasterBand(2).ReadAsArray()\n",
        "band3_values = image1.GetRasterBand(3).ReadAsArray()\n",
        "\n",
        "band1_values = band1_values[band3_values != 0]\n",
        "band2_values = band2_values[band3_values != 0]\n",
        "band3_values = band3_values[band3_values != 0]\n",
        "\n",
        "print(len(band1_values))\n",
        "print(len(band2_values))\n",
        "print(len(band3_values))\n",
        "\n",
        "band4_values = image1.GetRasterBand(4).ReadAsArray()\n",
        "print(np.unique(band4_values))"
      ],
      "metadata": {
        "colab": {
          "base_uri": "https://localhost:8080/"
        },
        "id": "70SGfajXWjLi",
        "outputId": "1a11d944-6938-4369-fd39-3cbd37b0c389"
      },
      "execution_count": 102,
      "outputs": [
        {
          "output_type": "stream",
          "name": "stdout",
          "text": [
            "206245\n",
            "206245\n",
            "206245\n",
            "[0. 7.]\n"
          ]
        }
      ]
    },
    {
      "cell_type": "code",
      "source": [
        "!pip install pygeohash"
      ],
      "metadata": {
        "colab": {
          "base_uri": "https://localhost:8080/"
        },
        "id": "fd3PFN6Ffi0J",
        "outputId": "aaddd24d-8d5c-4fd2-f152-5e9df3f213b1"
      },
      "execution_count": 103,
      "outputs": [
        {
          "output_type": "stream",
          "name": "stdout",
          "text": [
            "Requirement already satisfied: pygeohash in /usr/local/lib/python3.10/dist-packages (1.2.0)\n"
          ]
        }
      ]
    },
    {
      "cell_type": "code",
      "source": [
        "import pygeohash as pgh\n",
        "def encode_geohash(latitude, longitude, key=key1):\n",
        "    return pgh.encode(latitude, longitude, key)"
      ],
      "metadata": {
        "id": "cocIB3i3fqHY"
      },
      "execution_count": 104,
      "outputs": []
    },
    {
      "cell_type": "code",
      "source": [
        "import pandas as pd\n",
        "\n",
        "def DataframeGenerator(image1):\n",
        "  band1_values = image1.GetRasterBand(1).ReadAsArray()\n",
        "  band2_values = image1.GetRasterBand(2).ReadAsArray()\n",
        "  band3_values = image1.GetRasterBand(3).ReadAsArray()\n",
        "\n",
        "  # Get dimensions of the raster\n",
        "  rows, cols = band1_values.shape\n",
        "\n",
        "  # Create lists to store latitude, longitude, and pm2.5 values\n",
        "  latitude = []\n",
        "  longitude = []\n",
        "  pm25_values = []\n",
        "\n",
        "  # Iterate through each pixel\n",
        "  for row in range(rows):\n",
        "      for col in range(cols):\n",
        "          # Append latitude, longitude, and pm2.5 values to lists\n",
        "          latitude.append(band2_values[row, col])\n",
        "          longitude.append(band3_values[row, col])\n",
        "          pm25_values.append(band1_values[row, col])\n",
        "\n",
        "  # Create DataFrame\n",
        "  df = pd.DataFrame({'latitude': latitude, 'longitude': longitude, 'pm2.5 values': pm25_values})\n",
        "\n",
        "  # Filter out rows with zero values\n",
        "  df_filtered = df[(df != 0).all(axis=1)]\n",
        "\n",
        "  df_filtered.reset_index(drop=True, inplace=True)\n",
        "\n",
        "  # Apply the function to create the new \"Geohash\" column\n",
        "  df_filtered['Geohash'] = df_filtered.apply(lambda row: encode_geohash(row['latitude'], row['longitude']), axis=1)\n",
        "\n",
        "  df_filtered = df_filtered.drop_duplicates(subset='Geohash')\n",
        "  df_filtered.reset_index(drop=True, inplace=True)\n",
        "\n",
        "  return df_filtered"
      ],
      "metadata": {
        "id": "DfUBRiDIU71U"
      },
      "execution_count": 105,
      "outputs": []
    },
    {
      "cell_type": "code",
      "source": [
        "df1 = DataframeGenerator(image1)\n",
        "df2 = DataframeGenerator(image2)\n",
        "\n",
        "# Drop one row to observe RMSE_Calculator behavior when there are mismatched geohashes in one of the dataframes\n",
        "df1 = df1.drop(1)\n",
        "df1.reset_index(drop=True, inplace=True)\n",
        "\n",
        "print(df1)\n",
        "print(df2)"
      ],
      "metadata": {
        "colab": {
          "base_uri": "https://localhost:8080/"
        },
        "id": "bR5Ai3jigQcp",
        "outputId": "b7935aa0-1c71-46fc-a61c-789923c6ebc4"
      },
      "execution_count": 106,
      "outputs": [
        {
          "output_type": "stream",
          "name": "stderr",
          "text": [
            "<ipython-input-105-2381426e0c6c>:33: SettingWithCopyWarning: \n",
            "A value is trying to be set on a copy of a slice from a DataFrame.\n",
            "Try using .loc[row_indexer,col_indexer] = value instead\n",
            "\n",
            "See the caveats in the documentation: https://pandas.pydata.org/pandas-docs/stable/user_guide/indexing.html#returning-a-view-versus-a-copy\n",
            "  df_filtered['Geohash'] = df_filtered.apply(lambda row: encode_geohash(row['latitude'], row['longitude']), axis=1)\n"
          ]
        },
        {
          "output_type": "stream",
          "name": "stdout",
          "text": [
            "       latitude  longitude  pm2.5 values  Geohash\n",
            "0     40.904160 -73.887863      3.257859  dr72wwk\n",
            "1     40.904160 -73.896103      3.496644  dr72wqq\n",
            "2     40.904160 -73.894730      4.089306  dr72wqr\n",
            "3     40.902786 -73.887863      3.624676  dr72wwh\n",
            "4     40.902786 -73.886490      3.962771  dr72wwj\n",
            "...         ...        ...           ...      ...\n",
            "1162  40.783310 -73.929062      3.084182  dr72j8q\n",
            "1163  40.746231 -73.845291      9.393966  dr5rz9e\n",
            "1164  40.744858 -73.845291     10.670793  dr5rz97\n",
            "1165  40.740738 -73.898849      3.084182  dr5ry2s\n",
            "1166  40.711899 -73.934555      3.187280  dr5rte6\n",
            "\n",
            "[1167 rows x 4 columns]\n",
            "       latitude  longitude  pm2.5 values  Geohash\n",
            "0     40.904160 -73.887863      3.115973  dr72wwk\n",
            "1     40.904160 -73.886490      3.170306  dr72wwm\n",
            "2     40.904160 -73.896103      3.629661  dr72wqq\n",
            "3     40.904160 -73.894730      3.898599  dr72wqr\n",
            "4     40.902786 -73.887863      3.146986  dr72wwh\n",
            "...         ...        ...           ...      ...\n",
            "1163  40.783310 -73.929062      3.084182  dr72j8q\n",
            "1164  40.746231 -73.845291      9.393966  dr5rz9e\n",
            "1165  40.744858 -73.845291     10.663213  dr5rz97\n",
            "1166  40.740738 -73.898849      3.084182  dr5ry2s\n",
            "1167  40.711899 -73.934555      3.187280  dr5rte6\n",
            "\n",
            "[1168 rows x 4 columns]\n"
          ]
        },
        {
          "output_type": "stream",
          "name": "stderr",
          "text": [
            "<ipython-input-105-2381426e0c6c>:33: SettingWithCopyWarning: \n",
            "A value is trying to be set on a copy of a slice from a DataFrame.\n",
            "Try using .loc[row_indexer,col_indexer] = value instead\n",
            "\n",
            "See the caveats in the documentation: https://pandas.pydata.org/pandas-docs/stable/user_guide/indexing.html#returning-a-view-versus-a-copy\n",
            "  df_filtered['Geohash'] = df_filtered.apply(lambda row: encode_geohash(row['latitude'], row['longitude']), axis=1)\n"
          ]
        }
      ]
    },
    {
      "cell_type": "code",
      "source": [
        "import pandas as pd\n",
        "\n",
        "def Geohash_Mismatch_Fixer(df1, df2):\n",
        "  geohashes_df1 = set(df1['Geohash'])\n",
        "  geohashes_df2 = set(df2['Geohash'])\n",
        "\n",
        "  missing_in_df1 = geohashes_df2 - geohashes_df1\n",
        "  missing_in_df2 = geohashes_df1 - geohashes_df2\n",
        "\n",
        "  missing_df1 = pd.DataFrame({'Geohash': list(missing_in_df1), 'pm2.5 values': [0] * len(missing_in_df1), 'latitude': [0] * len(missing_in_df1), 'longitude': [0] * len(missing_in_df1)})\n",
        "  df1 = pd.concat([df1, missing_df1], ignore_index=True)\n",
        "\n",
        "  missing_df2 = pd.DataFrame({'Geohash': list(missing_in_df2), 'pm2.5 values': [0] * len(missing_in_df2), 'latitude': [0] * len(missing_in_df2), 'longitude': [0] * len(missing_in_df2)})\n",
        "  df2 = pd.concat([df2, missing_df2], ignore_index=True)\n",
        "\n",
        "  return df1, df2\n",
        "\n",
        "df1, df2 = Geohash_Mismatch_Fixer(df1, df2)"
      ],
      "metadata": {
        "id": "BYdiMLDWmR6E"
      },
      "execution_count": 107,
      "outputs": []
    },
    {
      "cell_type": "code",
      "source": [
        "#print(df1,df2)\n",
        "#merged_df = pd.merge(df1, df2, on='Geohash', suffixes=('_1', '_2'))\n",
        "#print(merged_df)"
      ],
      "metadata": {
        "id": "jgsRCj2Pqy4E"
      },
      "execution_count": 108,
      "outputs": []
    },
    {
      "cell_type": "code",
      "source": [
        "import pandas as pd\n",
        "from sklearn.metrics import mean_squared_error\n",
        "import numpy as np\n",
        "\n",
        "def RMSE_Calculator(df1, df2):\n",
        "  merged_df = pd.merge(df1, df2, on='Geohash', suffixes=('_1', '_2'))\n",
        "\n",
        "  merged_df['squared_diff'] = (merged_df['pm2.5 values_1'] - merged_df['pm2.5 values_2'])**2\n",
        "\n",
        "  mse = merged_df['squared_diff'].mean()\n",
        "\n",
        "  rmse = np.sqrt(mse)\n",
        "\n",
        "  return rmse\n",
        "\n",
        "print(RMSE_Calculator(df1, df2))"
      ],
      "metadata": {
        "colab": {
          "base_uri": "https://localhost:8080/"
        },
        "id": "5RKkLdNMeXfx",
        "outputId": "5d030826-9dc8-4ab7-cf4a-03ab34b70023"
      },
      "execution_count": 109,
      "outputs": [
        {
          "output_type": "stream",
          "name": "stdout",
          "text": [
            "0.6102206627448062\n"
          ]
        }
      ]
    },
    {
      "cell_type": "code",
      "source": [
        "# prompt: search for geohash dr72wwm in merged_df\n",
        "\n",
        "geohash_to_find = \"dr72wwm\"\n",
        "found_row = merged_df.loc[merged_df['Geohash'] == geohash_to_find]\n",
        "\n",
        "if not found_row.empty:\n",
        "    print(f\"Geohash {geohash_to_find} found:\")\n",
        "    print(found_row)\n",
        "else:\n",
        "    print(f\"Geohash {geohash_to_find} not found in the merged DataFrame.\")\n",
        "\n",
        "print(df1)\n",
        "print(df2)\n",
        "print(merged_df)"
      ],
      "metadata": {
        "colab": {
          "base_uri": "https://localhost:8080/"
        },
        "id": "uTeogXEslQTc",
        "outputId": "c81dcfce-a697-4049-aa6e-36b8fd27845e"
      },
      "execution_count": 110,
      "outputs": [
        {
          "output_type": "stream",
          "name": "stdout",
          "text": [
            "Geohash dr72wwm found:\n",
            "      latitude_1  longitude_1  pm2.5 values_1  Geohash  latitude_2  \\\n",
            "1167         0.0          0.0             0.0  dr72wwm    40.90416   \n",
            "\n",
            "      longitude_2  pm2.5 values_2  \n",
            "1167    -73.88649        3.170306  \n",
            "       latitude  longitude  pm2.5 values  Geohash\n",
            "0     40.904160 -73.887863      3.257859  dr72wwk\n",
            "1     40.904160 -73.896103      3.496644  dr72wqq\n",
            "2     40.904160 -73.894730      4.089306  dr72wqr\n",
            "3     40.902786 -73.887863      3.624676  dr72wwh\n",
            "4     40.902786 -73.886490      3.962771  dr72wwj\n",
            "...         ...        ...           ...      ...\n",
            "1163  40.746231 -73.845291      9.393966  dr5rz9e\n",
            "1164  40.744858 -73.845291     10.670793  dr5rz97\n",
            "1165  40.740738 -73.898849      3.084182  dr5ry2s\n",
            "1166  40.711899 -73.934555      3.187280  dr5rte6\n",
            "1167   0.000000   0.000000      0.000000  dr72wwm\n",
            "\n",
            "[1168 rows x 4 columns]\n",
            "       latitude  longitude  pm2.5 values  Geohash\n",
            "0     40.904160 -73.887863      3.115973  dr72wwk\n",
            "1     40.904160 -73.886490      3.170306  dr72wwm\n",
            "2     40.904160 -73.896103      3.629661  dr72wqq\n",
            "3     40.904160 -73.894730      3.898599  dr72wqr\n",
            "4     40.902786 -73.887863      3.146986  dr72wwh\n",
            "...         ...        ...           ...      ...\n",
            "1163  40.783310 -73.929062      3.084182  dr72j8q\n",
            "1164  40.746231 -73.845291      9.393966  dr5rz9e\n",
            "1165  40.744858 -73.845291     10.663213  dr5rz97\n",
            "1166  40.740738 -73.898849      3.084182  dr5ry2s\n",
            "1167  40.711899 -73.934555      3.187280  dr5rte6\n",
            "\n",
            "[1168 rows x 4 columns]\n",
            "      latitude_1  longitude_1  pm2.5 values_1  Geohash  latitude_2  \\\n",
            "0      40.904160   -73.887863        3.257859  dr72wwk   40.904160   \n",
            "1      40.904160   -73.896103        3.496644  dr72wqq   40.904160   \n",
            "2      40.904160   -73.894730        4.089306  dr72wqr   40.904160   \n",
            "3      40.902786   -73.887863        3.624676  dr72wwh   40.902786   \n",
            "4      40.902786   -73.886490        3.962771  dr72wwj   40.902786   \n",
            "...          ...          ...             ...      ...         ...   \n",
            "1163   40.746231   -73.845291        9.393966  dr5rz9e   40.746231   \n",
            "1164   40.744858   -73.845291       10.670793  dr5rz97   40.744858   \n",
            "1165   40.740738   -73.898849        3.084182  dr5ry2s   40.740738   \n",
            "1166   40.711899   -73.934555        3.187280  dr5rte6   40.711899   \n",
            "1167    0.000000     0.000000        0.000000  dr72wwm   40.904160   \n",
            "\n",
            "      longitude_2  pm2.5 values_2  \n",
            "0      -73.887863        3.115973  \n",
            "1      -73.896103        3.629661  \n",
            "2      -73.894730        3.898599  \n",
            "3      -73.887863        3.146986  \n",
            "4      -73.886490        3.199691  \n",
            "...           ...             ...  \n",
            "1163   -73.845291        9.393966  \n",
            "1164   -73.845291       10.663213  \n",
            "1165   -73.898849        3.084182  \n",
            "1166   -73.934555        3.187280  \n",
            "1167   -73.886490        3.170306  \n",
            "\n",
            "[1168 rows x 7 columns]\n"
          ]
        }
      ]
    },
    {
      "cell_type": "code",
      "source": [
        "#squared_diff = (pm25_values_image1 - pm25_values_image2) ** 2\n",
        "\n",
        "#mean_squared_diff = np.mean(squared_diff)\n",
        "\n",
        "#rmse = np.sqrt(mean_squared_diff)\n",
        "\n",
        "#print(\"RMSE:\", rmse)"
      ],
      "metadata": {
        "id": "rCYXTKQsHimF"
      },
      "execution_count": 111,
      "outputs": []
    },
    {
      "cell_type": "code",
      "source": [
        "'''\n",
        "main reading function - take reference image, iteratively go through each image in the folder, and store RMSE results in an array to pick the lowest\n",
        "'''"
      ],
      "metadata": {
        "id": "wlKd161OaH8_",
        "colab": {
          "base_uri": "https://localhost:8080/",
          "height": 35
        },
        "outputId": "d311651e-fb2a-49bb-f553-3a77a59d76f5"
      },
      "execution_count": 112,
      "outputs": [
        {
          "output_type": "execute_result",
          "data": {
            "text/plain": [
              "'\\nmain reading function - take reference image, iteratively go through each image in the folder, and store RMSE results in an array to pick the lowest\\n'"
            ],
            "application/vnd.google.colaboratory.intrinsic+json": {
              "type": "string"
            }
          },
          "metadata": {},
          "execution_count": 112
        }
      ]
    }
  ]
}