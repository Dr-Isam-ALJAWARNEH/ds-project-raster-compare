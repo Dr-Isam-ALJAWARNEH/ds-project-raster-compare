{
  "nbformat": 4,
  "nbformat_minor": 0,
  "metadata": {
    "colab": {
      "provenance": []
    },
    "kernelspec": {
      "name": "python3",
      "display_name": "Python 3"
    },
    "language_info": {
      "name": "python"
    }
  },
  "cells": [
    {
      "cell_type": "code",
      "execution_count": null,
      "metadata": {
        "id": "5lVwlYMe74FE"
      },
      "outputs": [],
      "source": [
        "import pandas as pd\n",
        "import geopandas as gpd\n",
        "from geocube.api.core import make_geocube\n",
        "from geocube.rasterize import rasterize_image\n",
        "from functools import partial\n",
        "from rasterio.enums import MergeAlg\n",
        "from shapely.geometry import LineString\n",
        "import matplotlib as plt\n",
        "import matplotlib.colors as mcolors\n",
        "import matplotlib.pyplot as plt2\n",
        "import rasterio as rio"
      ]
    },
    {
      "cell_type": "code",
      "source": [
        "from google.colab import drive\n",
        "drive.mount('/content/drive')"
      ],
      "metadata": {
        "colab": {
          "base_uri": "https://localhost:8080/"
        },
        "id": "AIp9_O7H9917",
        "outputId": "5be99ed3-3652-4062-fdad-3e47fc90b806"
      },
      "execution_count": null,
      "outputs": [
        {
          "output_type": "stream",
          "name": "stdout",
          "text": [
            "Drive already mounted at /content/drive; to attempt to forcibly remount, call drive.mount(\"/content/drive\", force_remount=True).\n"
          ]
        }
      ]
    },
    {
      "cell_type": "code",
      "source": [
        "Taxi_NYC = pd.read_csv('/content/drive/MyDrive/ds-project-raster-compare/datasets/nyc1.csv')"
      ],
      "metadata": {
        "id": "-vUVHJrp-cVX"
      },
      "execution_count": null,
      "outputs": []
    },
    {
      "cell_type": "code",
      "source": [
        "    # Convert Long Lat into numeric type\n",
        "Taxi_NYC['Pickup_longitude'] = pd.to_numeric(Taxi_NYC['Pickup_longitude'])\n",
        "Taxi_NYC['Pickup_latitude'] = pd.to_numeric(Taxi_NYC['Pickup_latitude'])\n",
        "Taxi_NYC['Dropoff_longitude'] = pd.to_numeric(Taxi_NYC['Dropoff_longitude'])\n",
        "Taxi_NYC['Dropoff_latitude'] = pd.to_numeric(Taxi_NYC['Dropoff_latitude'])\n",
        "print(Taxi_NYC)"
      ],
      "metadata": {
        "colab": {
          "base_uri": "https://localhost:8080/"
        },
        "id": "P_xCcDWvBFdF",
        "outputId": "dc5a5e04-e9b7-4299-9641-8ff29a652012"
      },
      "execution_count": null,
      "outputs": [
        {
          "output_type": "stream",
          "name": "stdout",
          "text": [
            "              id  VendorID lpep_pickup_datetime Lpep_dropoff_datetime  \\\n",
            "0              0         2  2016-01-01 00:29:24   2016-01-01 00:39:36   \n",
            "1              1         2  2016-01-01 00:19:39   2016-01-01 00:39:18   \n",
            "2              2         2  2016-01-01 00:19:33   2016-01-01 00:39:48   \n",
            "3              3         2  2016-01-01 00:22:12   2016-01-01 00:38:32   \n",
            "4              4         2  2016-01-01 00:24:01   2016-01-01 00:39:22   \n",
            "...          ...       ...                  ...                   ...   \n",
            "1445280  1445280         2  2016-01-31 23:59:36   2016-02-01 00:07:53   \n",
            "1445281  1445281         2  2016-01-31 23:26:06   2016-01-31 23:31:22   \n",
            "1445282  1445282         2  2016-01-31 23:50:36   2016-01-31 23:56:19   \n",
            "1445283  1445283         2  2016-01-31 23:57:47   2016-02-01 00:06:58   \n",
            "1445284  1445284         2  2016-01-31 23:59:54   2016-02-01 00:07:06   \n",
            "\n",
            "        Store_and_fwd_flag  RateCodeID  Pickup_longitude  Pickup_latitude  \\\n",
            "0                        N           1        -73.928642        40.680611   \n",
            "1                        N           1        -73.952675        40.723175   \n",
            "2                        N           1        -73.971611        40.676105   \n",
            "3                        N           1        -73.989502        40.669579   \n",
            "4                        N           1        -73.964729        40.682854   \n",
            "...                    ...         ...               ...              ...   \n",
            "1445280                  N           1        -73.807716        40.700451   \n",
            "1445281                  N           1        -73.951408        40.714001   \n",
            "1445282                  N           1        -73.954842        40.730213   \n",
            "1445283                  N           1        -73.953491        40.817211   \n",
            "1445284                  N           1        -73.892578        40.747250   \n",
            "\n",
            "         Dropoff_longitude  Dropoff_latitude  ...  Fare_amount  Extra  \\\n",
            "0               -73.924278         40.698044  ...          8.0    0.5   \n",
            "1               -73.923920         40.761379  ...         15.5    0.5   \n",
            "2               -74.013161         40.646072  ...         16.5    0.5   \n",
            "3               -74.000648         40.689034  ...         13.5    0.5   \n",
            "4               -73.940720         40.663013  ...         12.0    0.5   \n",
            "...                    ...               ...  ...          ...    ...   \n",
            "1445280         -73.768478         40.698082  ...         10.5    0.5   \n",
            "1445281         -73.941483         40.724766  ...          6.0    0.5   \n",
            "1445282         -73.944626         40.726303  ...          6.5    0.5   \n",
            "1445283         -73.977127         40.779583  ...         10.5    0.5   \n",
            "1445284         -73.910049         40.775539  ...         10.0    0.5   \n",
            "\n",
            "         MTA_tax  Tip_amount  Tolls_amount  Ehail_fee  improvement_surcharge  \\\n",
            "0            0.5        1.86           0.0        NaN                    0.3   \n",
            "1            0.5        0.00           0.0        NaN                    0.3   \n",
            "2            0.5        4.45           0.0        NaN                    0.3   \n",
            "3            0.5        0.00           0.0        NaN                    0.3   \n",
            "4            0.5        0.00           0.0        NaN                    0.3   \n",
            "...          ...         ...           ...        ...                    ...   \n",
            "1445280      0.5        0.00           0.0        NaN                    0.3   \n",
            "1445281      0.5        1.00           0.0        NaN                    0.3   \n",
            "1445282      0.5        2.34           0.0        NaN                    0.3   \n",
            "1445283      0.5        1.50           0.0        NaN                    0.3   \n",
            "1445284      0.5        2.82           0.0        NaN                    0.3   \n",
            "\n",
            "         Total_amount  Payment_type  Trip_type  \n",
            "0               11.16             1        1.0  \n",
            "1               16.80             2        1.0  \n",
            "2               22.25             1        1.0  \n",
            "3               14.80             2        1.0  \n",
            "4               13.30             2        1.0  \n",
            "...               ...           ...        ...  \n",
            "1445280         11.80             2        1.0  \n",
            "1445281          8.30             1        1.0  \n",
            "1445282         10.14             1        1.0  \n",
            "1445283         13.30             1        1.0  \n",
            "1445284         14.12             1        1.0  \n",
            "\n",
            "[1445285 rows x 22 columns]\n"
          ]
        }
      ]
    },
    {
      "cell_type": "code",
      "source": [
        "# Convert Long Lat into Point Geometry\n",
        "\n",
        "pickup_points = gpd.GeoDataFrame(geometry = gpd.points_from_xy(x=Taxi_NYC['Pickup_longitude'], y=Taxi_NYC['Pickup_latitude']))\n",
        "dropoff_points = gpd.GeoDataFrame(geometry = gpd.points_from_xy(x=Taxi_NYC['Dropoff_longitude'], y=Taxi_NYC['Dropoff_latitude']))\n",
        "\n",
        "print(pickup_points)\n",
        "print(dropoff_points)\n"
      ],
      "metadata": {
        "colab": {
          "base_uri": "https://localhost:8080/"
        },
        "id": "30NPk8s4BUem",
        "outputId": "416d3480-a114-4ed2-f340-c95f902f3964"
      },
      "execution_count": null,
      "outputs": [
        {
          "output_type": "stream",
          "name": "stdout",
          "text": [
            "                           geometry\n",
            "0        POINT (-73.92864 40.68061)\n",
            "1        POINT (-73.95267 40.72318)\n",
            "2        POINT (-73.97161 40.67611)\n",
            "3        POINT (-73.98950 40.66958)\n",
            "4        POINT (-73.96473 40.68285)\n",
            "...                             ...\n",
            "1445280  POINT (-73.80772 40.70045)\n",
            "1445281  POINT (-73.95141 40.71400)\n",
            "1445282  POINT (-73.95484 40.73021)\n",
            "1445283  POINT (-73.95349 40.81721)\n",
            "1445284  POINT (-73.89258 40.74725)\n",
            "\n",
            "[1445285 rows x 1 columns]\n",
            "                           geometry\n",
            "0        POINT (-73.92428 40.69804)\n",
            "1        POINT (-73.92392 40.76138)\n",
            "2        POINT (-74.01316 40.64607)\n",
            "3        POINT (-74.00065 40.68903)\n",
            "4        POINT (-73.94072 40.66301)\n",
            "...                             ...\n",
            "1445280  POINT (-73.76848 40.69808)\n",
            "1445281  POINT (-73.94148 40.72477)\n",
            "1445282  POINT (-73.94463 40.72630)\n",
            "1445283  POINT (-73.97713 40.77958)\n",
            "1445284  POINT (-73.91005 40.77554)\n",
            "\n",
            "[1445285 rows x 1 columns]\n"
          ]
        }
      ]
    },
    {
      "cell_type": "code",
      "source": [
        "# prompt: concatenate the pickup_pointss and the dropoff_pointss\n",
        "\n",
        "nyc_points = pd.concat([pickup_points, dropoff_points], ignore_index=True)\n",
        "print(nyc_points)"
      ],
      "metadata": {
        "colab": {
          "base_uri": "https://localhost:8080/"
        },
        "id": "OEB18ixJDTxn",
        "outputId": "26fadc5b-307e-4aaa-c31b-f0b1c355012c"
      },
      "execution_count": null,
      "outputs": [
        {
          "output_type": "stream",
          "name": "stdout",
          "text": [
            "                           geometry\n",
            "0        POINT (-73.92864 40.68061)\n",
            "1        POINT (-73.95267 40.72318)\n",
            "2        POINT (-73.97161 40.67611)\n",
            "3        POINT (-73.98950 40.66958)\n",
            "4        POINT (-73.96473 40.68285)\n",
            "...                             ...\n",
            "2890565  POINT (-73.76848 40.69808)\n",
            "2890566  POINT (-73.94148 40.72477)\n",
            "2890567  POINT (-73.94463 40.72630)\n",
            "2890568  POINT (-73.97713 40.77958)\n",
            "2890569  POINT (-73.91005 40.77554)\n",
            "\n",
            "[2890570 rows x 1 columns]\n"
          ]
        }
      ]
    },
    {
      "cell_type": "code",
      "source": [
        "# prompt: i want the ten maximum and minimum values from x and y and display them\n",
        "\n",
        "minimum_x = nyc_points.geometry.x.min()\n",
        "maximum_x = nyc_points.geometry.x.max()\n",
        "minimum_y = nyc_points.geometry.y.min()\n",
        "maximum_y = nyc_points.geometry.y.max()\n",
        "\n",
        "print(\"Minimum x:\", minimum_x)\n",
        "print(\"Maximum x:\", maximum_x)\n",
        "print(\"Minimum y:\", minimum_y)\n",
        "print(\"Maximum y:\", maximum_y)\n",
        "\n",
        "# Get the ten maximum and minimum values from x and y\n",
        "max_x_values = nyc_points.geometry.x.nlargest(10)\n",
        "min_x_values = nyc_points.geometry.x.nsmallest(10)\n",
        "max_y_values = nyc_points.geometry.y.nlargest(10)\n",
        "min_y_values = nyc_points.geometry.y.nsmallest(10)\n",
        "\n",
        "# Display the maximum and minimum values\n",
        "print(\"Maximum x values:\", max_x_values, sep = \"\\n\")\n",
        "print(\"Minimum x values:\", min_x_values, sep = \"\\n\")\n",
        "print(\"Maximum y values:\", max_y_values, sep = \"\\n\")\n",
        "print(\"Minimum y values:\", min_y_values, sep = \"\\n\")\n"
      ],
      "metadata": {
        "colab": {
          "base_uri": "https://localhost:8080/"
        },
        "id": "-j6Ge0s1t23j",
        "outputId": "5f0da9b5-7fb2-4aa3-faf7-461a064ea61e"
      },
      "execution_count": null,
      "outputs": [
        {
          "output_type": "stream",
          "name": "stdout",
          "text": [
            "Minimum x: -115.18130493164062\n",
            "Maximum x: 0.0\n",
            "Minimum y: 0.0\n",
            "Maximum y: 43.168006896972656\n",
            "Maximum x values:\n",
            "5239     0.0\n",
            "6216     0.0\n",
            "6424     0.0\n",
            "7355     0.0\n",
            "9219     0.0\n",
            "10835    0.0\n",
            "12381    0.0\n",
            "12618    0.0\n",
            "12888    0.0\n",
            "13239    0.0\n",
            "dtype: float64\n",
            "Minimum x values:\n",
            "1203026   -115.181305\n",
            "2822033   -115.178856\n",
            "1421710   -115.177605\n",
            "1411369   -115.177559\n",
            "1443756   -115.175995\n",
            "2842901   -115.175560\n",
            "2889042   -115.175484\n",
            "1384820   -115.175385\n",
            "2752958   -115.175354\n",
            "2761383   -115.175308\n",
            "dtype: float64\n",
            "Maximum y values:\n",
            "1219444    43.168007\n",
            "2073455    42.694790\n",
            "635770     42.694782\n",
            "635904     42.694782\n",
            "2081055    42.694782\n",
            "2081189    42.694782\n",
            "635820     42.694775\n",
            "2081105    42.694775\n",
            "1028932    42.324322\n",
            "1028933    42.324322\n",
            "dtype: float64\n",
            "Minimum y values:\n",
            "5239     0.0\n",
            "6216     0.0\n",
            "6424     0.0\n",
            "7355     0.0\n",
            "9219     0.0\n",
            "10835    0.0\n",
            "12381    0.0\n",
            "12618    0.0\n",
            "12888    0.0\n",
            "13239    0.0\n",
            "dtype: float64\n"
          ]
        }
      ]
    },
    {
      "cell_type": "code",
      "source": [
        "print(nyc_points)"
      ],
      "metadata": {
        "colab": {
          "base_uri": "https://localhost:8080/"
        },
        "id": "sH4n_aru0whN",
        "outputId": "912b621c-4111-415b-99f8-564518300377"
      },
      "execution_count": null,
      "outputs": [
        {
          "output_type": "stream",
          "name": "stdout",
          "text": [
            "                           geometry\n",
            "0        POINT (-73.92864 40.68061)\n",
            "1        POINT (-73.95267 40.72318)\n",
            "2        POINT (-73.97161 40.67611)\n",
            "3        POINT (-73.98950 40.66958)\n",
            "4        POINT (-73.96473 40.68285)\n",
            "...                             ...\n",
            "2890565  POINT (-73.76848 40.69808)\n",
            "2890566  POINT (-73.94148 40.72477)\n",
            "2890567  POINT (-73.94463 40.72630)\n",
            "2890568  POINT (-73.97713 40.77958)\n",
            "2890569  POINT (-73.91005 40.77554)\n",
            "\n",
            "[2890570 rows x 1 columns]\n"
          ]
        }
      ]
    },
    {
      "cell_type": "code",
      "source": [
        "import numpy as np\n",
        "from scipy import stats\n",
        "import geopandas as gpd\n",
        "\n",
        "def remove_outliers_zscore(geodataframe, threshold=3):\n",
        "    # Extracting coordinates from geometry\n",
        "    coords = np.array([(point.x, point.y) for point in geodataframe.geometry])\n",
        "\n",
        "    # Calculating z-scores for both longitude and latitude\n",
        "    z_scores_lon = np.abs(stats.zscore(coords[:, 0]))\n",
        "    z_scores_lat = np.abs(stats.zscore(coords[:, 1]))\n",
        "\n",
        "    # Find outliers for both longitude and latitude\n",
        "    outliers = (z_scores_lon > threshold) | (z_scores_lat > threshold)\n",
        "\n",
        "    # Remove outliers\n",
        "    cleaned_geodataframe = geodataframe[~outliers].copy()\n",
        "    return cleaned_geodataframe"
      ],
      "metadata": {
        "id": "7CyWtOwHZJ3z"
      },
      "execution_count": null,
      "outputs": []
    },
    {
      "cell_type": "code",
      "source": [
        "nyc_points = remove_outliers_zscore(nyc_points)"
      ],
      "metadata": {
        "id": "UQnPMap4ZmQ6"
      },
      "execution_count": null,
      "outputs": []
    },
    {
      "cell_type": "code",
      "source": [
        "# prompt: i want the ten maximum and minimum values from x and y and display them\n",
        "\n",
        "minimum_x = nyc_points.geometry.x.min()\n",
        "maximum_x = nyc_points.geometry.x.max()\n",
        "minimum_y = nyc_points.geometry.y.min()\n",
        "maximum_y = nyc_points.geometry.y.max()\n",
        "\n",
        "print(\"Minimum x:\", minimum_x)\n",
        "print(\"Maximum x:\", maximum_x)\n",
        "print(\"Minimum y:\", minimum_y)\n",
        "print(\"Maximum y:\", maximum_y)\n",
        "\n",
        "# Get the ten maximum and minimum values from x and y\n",
        "max_x_values = nyc_points.geometry.x.nlargest(10)\n",
        "min_x_values = nyc_points.geometry.x.nsmallest(10)\n",
        "max_y_values = nyc_points.geometry.y.nlargest(10)\n",
        "min_y_values = nyc_points.geometry.y.nsmallest(10)\n",
        "\n",
        "# Display the maximum and minimum values\n",
        "print(\"Maximum x values:\", max_x_values, sep = \"\\n\")\n",
        "print(\"Minimum x values:\", min_x_values, sep = \"\\n\")\n",
        "print(\"Maximum y values:\", max_y_values, sep = \"\\n\")\n",
        "print(\"Minimum y values:\", min_y_values, sep = \"\\n\")"
      ],
      "metadata": {
        "colab": {
          "base_uri": "https://localhost:8080/"
        },
        "id": "vbnEllL5zbGW",
        "outputId": "11440441-5590-4a56-b4a2-b334c143e2cf"
      },
      "execution_count": null,
      "outputs": [
        {
          "output_type": "stream",
          "name": "stdout",
          "text": [
            "Minimum x: -78.25851440429688\n",
            "Maximum x: -70.14051818847656\n",
            "Minimum y: 37.52218627929688\n",
            "Maximum y: 43.168006896972656\n",
            "Maximum x values:\n",
            "1199026   -70.140518\n",
            "343100    -71.070084\n",
            "1788385   -71.070107\n",
            "1028934   -71.070122\n",
            "343067    -71.070152\n",
            "1028932   -71.070175\n",
            "2474219   -71.070175\n",
            "1028935   -71.070183\n",
            "1788185   -71.070183\n",
            "1788352   -71.070183\n",
            "dtype: float64\n",
            "Minimum x values:\n",
            "280751    -78.258514\n",
            "1967689   -77.526421\n",
            "2717555   -76.685287\n",
            "1272270   -76.432892\n",
            "2553028   -75.939247\n",
            "1107743   -75.938301\n",
            "2553031   -75.932281\n",
            "1107746   -75.932205\n",
            "1107744   -75.926674\n",
            "1107747   -75.925430\n",
            "dtype: float64\n",
            "Maximum y values:\n",
            "1219444    43.168007\n",
            "2073455    42.694790\n",
            "635770     42.694782\n",
            "635904     42.694782\n",
            "2081055    42.694782\n",
            "2081189    42.694782\n",
            "635820     42.694775\n",
            "2081105    42.694775\n",
            "1028932    42.324322\n",
            "1028933    42.324322\n",
            "dtype: float64\n",
            "Minimum y values:\n",
            "280751     37.522186\n",
            "1272270    38.197365\n",
            "2717555    38.633171\n",
            "1568428    39.355820\n",
            "123143     39.356133\n",
            "2777886    39.374725\n",
            "2767190    39.656254\n",
            "2409769    39.675259\n",
            "2409770    39.678757\n",
            "964486     39.684895\n",
            "dtype: float64\n"
          ]
        }
      ]
    },
    {
      "cell_type": "code",
      "source": [
        "print(nyc_points)"
      ],
      "metadata": {
        "colab": {
          "base_uri": "https://localhost:8080/"
        },
        "id": "B9jNnZYR0k8_",
        "outputId": "1481677d-f972-4ae3-d617-2eb7b6dd54e2"
      },
      "execution_count": null,
      "outputs": [
        {
          "output_type": "stream",
          "name": "stdout",
          "text": [
            "                           geometry\n",
            "0        POINT (-73.92864 40.68061)\n",
            "1        POINT (-73.95267 40.72318)\n",
            "2        POINT (-73.97161 40.67611)\n",
            "3        POINT (-73.98950 40.66958)\n",
            "4        POINT (-73.96473 40.68285)\n",
            "...                             ...\n",
            "2890565  POINT (-73.76848 40.69808)\n",
            "2890566  POINT (-73.94148 40.72477)\n",
            "2890567  POINT (-73.94463 40.72630)\n",
            "2890568  POINT (-73.97713 40.77958)\n",
            "2890569  POINT (-73.91005 40.77554)\n",
            "\n",
            "[2885598 rows x 1 columns]\n"
          ]
        }
      ]
    },
    {
      "cell_type": "code",
      "source": [
        "nyc_points = nyc_points.set_crs('EPSG:4326')\n",
        "nyc_points = nyc_points.to_crs('EPSG:3857')\n",
        "nyc_points['value'] = 1\n",
        "nyc_points = nyc_points[nyc_points.is_valid]\n",
        "nyc_points = nyc_points[~nyc_points.is_empty]"
      ],
      "metadata": {
        "id": "Ze-S8CqJC7ja"
      },
      "execution_count": null,
      "outputs": []
    },
    {
      "cell_type": "code",
      "source": [
        "Taxi_NYC_raster = make_geocube(\n",
        "        vector_data = nyc_points,\n",
        "        measurements = [\"value\"],\n",
        "        resolution = (-400, 400),\n",
        "        rasterize_function=partial(rasterize_image, merge_alg=MergeAlg.add),\n",
        "        fill = 0)"
      ],
      "metadata": {
        "id": "5Q_7LMLEMHUW"
      },
      "execution_count": null,
      "outputs": []
    },
    {
      "cell_type": "code",
      "source": [
        "Taxi_NYC_raster.rio.to_raster(r'/content/drive/MyDrive/ds-project-raster-compare/datasets/Taxi_NYC2.tiff')"
      ],
      "metadata": {
        "id": "nwbP4wr6bc26"
      },
      "execution_count": null,
      "outputs": []
    },
    {
      "cell_type": "code",
      "source": [
        "landsat = rio.open(\"/content/drive/MyDrive/ds-project-raster-compare/datasets/Taxi_NYC2.tiff\")"
      ],
      "metadata": {
        "id": "YH-1w8Yb2nWk"
      },
      "execution_count": null,
      "outputs": []
    },
    {
      "cell_type": "code",
      "source": [
        "# The CRS\n",
        "landsat.crs"
      ],
      "metadata": {
        "colab": {
          "base_uri": "https://localhost:8080/"
        },
        "id": "R112lmQM37tR",
        "outputId": "4c295021-5195-4e12-f0dd-18855fe11d73"
      },
      "execution_count": null,
      "outputs": [
        {
          "output_type": "execute_result",
          "data": {
            "text/plain": [
              "CRS.from_epsg(3857)"
            ]
          },
          "metadata": {},
          "execution_count": 150
        }
      ]
    },
    {
      "cell_type": "code",
      "source": [
        "# The bounds\n",
        "landsat.bounds"
      ],
      "metadata": {
        "colab": {
          "base_uri": "https://localhost:8080/"
        },
        "id": "fB2HZ8aA4FDR",
        "outputId": "ca76bea8-ff0d-4083-efa0-e2e44f2636bf"
      },
      "execution_count": null,
      "outputs": [
        {
          "output_type": "execute_result",
          "data": {
            "text/plain": [
              "BoundingBox(left=-8712000.0, bottom=4512000.0, right=-7808000.0, top=5337600.0)"
            ]
          },
          "metadata": {},
          "execution_count": 151
        }
      ]
    },
    {
      "cell_type": "code",
      "source": [
        "# The number of bands available\n",
        "landsat.count"
      ],
      "metadata": {
        "colab": {
          "base_uri": "https://localhost:8080/"
        },
        "id": "8uTwsyOZ4MYF",
        "outputId": "10eb546a-e0e5-4668-dab2-437adf0df106"
      },
      "execution_count": null,
      "outputs": [
        {
          "output_type": "execute_result",
          "data": {
            "text/plain": [
              "1"
            ]
          },
          "metadata": {},
          "execution_count": 152
        }
      ]
    },
    {
      "cell_type": "code",
      "source": [
        "# The band numbers that are available\n",
        "landsat.indexes"
      ],
      "metadata": {
        "colab": {
          "base_uri": "https://localhost:8080/"
        },
        "id": "h0o9F7IV4RFw",
        "outputId": "97236865-5a47-4532-94e4-54735d329f9c"
      },
      "execution_count": null,
      "outputs": [
        {
          "output_type": "execute_result",
          "data": {
            "text/plain": [
              "(1,)"
            ]
          },
          "metadata": {},
          "execution_count": 153
        }
      ]
    },
    {
      "cell_type": "code",
      "source": [
        "# Number of pixels in the x and y directions\n",
        "landsat.shape"
      ],
      "metadata": {
        "colab": {
          "base_uri": "https://localhost:8080/"
        },
        "id": "wzt4HAjt4VrC",
        "outputId": "8943eeba-e571-4fa2-ba01-cb451b5bd18b"
      },
      "execution_count": null,
      "outputs": [
        {
          "output_type": "execute_result",
          "data": {
            "text/plain": [
              "(2064, 2260)"
            ]
          },
          "metadata": {},
          "execution_count": 154
        }
      ]
    },
    {
      "cell_type": "code",
      "source": [
        "# The 6 parameters that map from pixel to real space\n",
        "landsat.transform"
      ],
      "metadata": {
        "colab": {
          "base_uri": "https://localhost:8080/"
        },
        "id": "m3PJ74RR4cBk",
        "outputId": "07180b10-be5f-4617-d35c-d08163be497f"
      },
      "execution_count": null,
      "outputs": [
        {
          "output_type": "execute_result",
          "data": {
            "text/plain": [
              "Affine(400.0, 0.0, -8712000.0,\n",
              "       0.0, -400.0, 5337600.0)"
            ]
          },
          "metadata": {},
          "execution_count": 155
        }
      ]
    },
    {
      "cell_type": "code",
      "source": [
        "# All of the meta data\n",
        "landsat.meta"
      ],
      "metadata": {
        "colab": {
          "base_uri": "https://localhost:8080/"
        },
        "id": "UgRPP4vx4jnH",
        "outputId": "33c52cda-5a09-47ff-f1f9-ea58e3f5fece"
      },
      "execution_count": null,
      "outputs": [
        {
          "output_type": "execute_result",
          "data": {
            "text/plain": [
              "{'driver': 'GTiff',\n",
              " 'dtype': 'int64',\n",
              " 'nodata': 0.0,\n",
              " 'width': 2260,\n",
              " 'height': 2064,\n",
              " 'count': 1,\n",
              " 'crs': CRS.from_epsg(3857),\n",
              " 'transform': Affine(400.0, 0.0, -8712000.0,\n",
              "        0.0, -400.0, 5337600.0)}"
            ]
          },
          "metadata": {},
          "execution_count": 156
        }
      ]
    },
    {
      "cell_type": "code",
      "source": [
        "# This is just a numpy array\n",
        "data = landsat.read(1)\n",
        "data"
      ],
      "metadata": {
        "colab": {
          "base_uri": "https://localhost:8080/"
        },
        "id": "-XQ_T4_l4pWc",
        "outputId": "637eee06-6324-43ea-a903-f3371ba865b6"
      },
      "execution_count": null,
      "outputs": [
        {
          "output_type": "execute_result",
          "data": {
            "text/plain": [
              "array([[0, 0, 0, ..., 0, 0, 0],\n",
              "       [0, 0, 0, ..., 0, 0, 0],\n",
              "       [0, 0, 0, ..., 0, 0, 0],\n",
              "       ...,\n",
              "       [0, 0, 0, ..., 0, 0, 0],\n",
              "       [0, 0, 0, ..., 0, 0, 0],\n",
              "       [1, 0, 0, ..., 0, 0, 0]])"
            ]
          },
          "metadata": {},
          "execution_count": 157
        }
      ]
    },
    {
      "cell_type": "code",
      "source": [
        "fig, ax = plt2.subplots(figsize=(10,10))\n",
        "\n",
        "img = ax.imshow(data)\n",
        "\n",
        "plt2.colorbar(img)"
      ],
      "metadata": {
        "colab": {
          "base_uri": "https://localhost:8080/",
          "height": 833
        },
        "id": "m4d9XFVG4zb_",
        "outputId": "6164e590-79fd-4f1f-dc74-719653c589b3"
      },
      "execution_count": null,
      "outputs": [
        {
          "output_type": "execute_result",
          "data": {
            "text/plain": [
              "<matplotlib.colorbar.Colorbar at 0x7feae9e95330>"
            ]
          },
          "metadata": {},
          "execution_count": 158
        },
        {
          "output_type": "display_data",
          "data": {
            "text/plain": [
              "<Figure size 1000x1000 with 2 Axes>"
            ],
            "image/png": "[encoded data removed]"
          },
          "metadata": {}
        }
      ]
    },
    {
      "cell_type": "code",
      "source": [
        "\n",
        "import matplotlib.pyplot as plt\n",
        "\n",
        "# Define the range to focus on\n",
        "xmin, xmax = 1150, 1300  # Example range for x-axis\n",
        "ymin, ymax = 800, 1000  # Example range for y-axis\n",
        "\n",
        "# Create the figure and axis\n",
        "fig, ax = plt.subplots(figsize=(10, 10))\n",
        "\n",
        "# Plot the data\n",
        "img = ax.imshow(data)\n",
        "\n",
        "# Set the limits of the axis to crop the plot\n",
        "ax.set_xlim(xmin, xmax)\n",
        "ax.set_ylim(ymin, ymax)\n",
        "\n",
        "# Add colorbar\n",
        "plt.colorbar(img)\n",
        "\n",
        "# Show plot\n",
        "plt.show()"
      ],
      "metadata": {
        "colab": {
          "base_uri": "https://localhost:8080/",
          "height": 836
        },
        "id": "Y2KmRqm97LoO",
        "outputId": "644313d7-a7e2-4b2b-d11d-1bace3cffb26"
      },
      "execution_count": null,
      "outputs": [
        {
          "output_type": "display_data",
          "data": {
            "text/plain": [
              "<Figure size 1000x1000 with 2 Axes>"
            ],
            "image/png": "[encoded data removed]"
          },
          "metadata": {}
        }
      ]
    }
  ]
}