{
  "nbformat": 4,
  "nbformat_minor": 0,
  "metadata": {
    "colab": {
      "provenance": []
    },
    "kernelspec": {
      "name": "python3",
      "display_name": "Python 3"
    },
    "language_info": {
      "name": "python"
    }
  },
  "cells": [
    {
      "cell_type": "code",
      "source": [
        "!pip install geocube"
      ],
      "metadata": {
        "colab": {
          "base_uri": "https://localhost:8080/"
        },
        "id": "NFK7lNDU9XtE",
        "outputId": "c873ac0a-6f73-444c-8b1e-481d02f32327"
      },
      "execution_count": 4,
      "outputs": [
        {
          "output_type": "stream",
          "name": "stdout",
          "text": [
            "Collecting geocube\n",
            "  Downloading geocube-0.5.2-py3-none-any.whl (21 kB)\n",
            "Requirement already satisfied: appdirs in /usr/local/lib/python3.10/dist-packages (from geocube) (1.4.4)\n",
            "Requirement already satisfied: click>=6.0 in /usr/local/lib/python3.10/dist-packages (from geocube) (8.1.7)\n",
            "Requirement already satisfied: geopandas>=0.7 in /usr/local/lib/python3.10/dist-packages (from geocube) (0.13.2)\n",
            "Collecting odc-geo (from geocube)\n",
            "  Downloading odc_geo-0.4.3-py3-none-any.whl (146 kB)\n",
            "\u001b[2K     \u001b[90m━━━━━━━━━━━━━━━━━━━━━━━━━━━━━━━━━━━━━━━━\u001b[0m \u001b[32m146.4/146.4 kB\u001b[0m \u001b[31m4.3 MB/s\u001b[0m eta \u001b[36m0:00:00\u001b[0m\n",
            "\u001b[?25hCollecting rasterio>=1.3 (from geocube)\n",
            "  Downloading rasterio-1.3.10-cp310-cp310-manylinux2014_x86_64.whl (21.5 MB)\n",
            "\u001b[2K     \u001b[90m━━━━━━━━━━━━━━━━━━━━━━━━━━━━━━━━━━━━━━━━\u001b[0m \u001b[32m21.5/21.5 MB\u001b[0m \u001b[31m67.2 MB/s\u001b[0m eta \u001b[36m0:00:00\u001b[0m\n",
            "\u001b[?25hCollecting rioxarray>=0.4 (from geocube)\n",
            "  Downloading rioxarray-0.15.5-py3-none-any.whl (60 kB)\n",
            "\u001b[2K     \u001b[90m━━━━━━━━━━━━━━━━━━━━━━━━━━━━━━━━━━━━━━━━\u001b[0m \u001b[32m60.5/60.5 kB\u001b[0m \u001b[31m8.6 MB/s\u001b[0m eta \u001b[36m0:00:00\u001b[0m\n",
            "\u001b[?25hRequirement already satisfied: scipy in /usr/local/lib/python3.10/dist-packages (from geocube) (1.11.4)\n",
            "Requirement already satisfied: xarray>=0.17 in /usr/local/lib/python3.10/dist-packages (from geocube) (2023.7.0)\n",
            "Requirement already satisfied: pyproj>=2 in /usr/local/lib/python3.10/dist-packages (from geocube) (3.6.1)\n",
            "Requirement already satisfied: numpy>=1.20 in /usr/local/lib/python3.10/dist-packages (from geocube) (1.25.2)\n",
            "Requirement already satisfied: fiona>=1.8.19 in /usr/local/lib/python3.10/dist-packages (from geopandas>=0.7->geocube) (1.9.6)\n",
            "Requirement already satisfied: packaging in /usr/local/lib/python3.10/dist-packages (from geopandas>=0.7->geocube) (24.0)\n",
            "Requirement already satisfied: pandas>=1.1.0 in /usr/local/lib/python3.10/dist-packages (from geopandas>=0.7->geocube) (2.0.3)\n",
            "Requirement already satisfied: shapely>=1.7.1 in /usr/local/lib/python3.10/dist-packages (from geopandas>=0.7->geocube) (2.0.4)\n",
            "Requirement already satisfied: certifi in /usr/local/lib/python3.10/dist-packages (from pyproj>=2->geocube) (2024.2.2)\n",
            "Collecting affine (from rasterio>=1.3->geocube)\n",
            "  Downloading affine-2.4.0-py3-none-any.whl (15 kB)\n",
            "Requirement already satisfied: attrs in /usr/local/lib/python3.10/dist-packages (from rasterio>=1.3->geocube) (23.2.0)\n",
            "Requirement already satisfied: cligj>=0.5 in /usr/local/lib/python3.10/dist-packages (from rasterio>=1.3->geocube) (0.7.2)\n",
            "Collecting snuggs>=1.4.1 (from rasterio>=1.3->geocube)\n",
            "  Downloading snuggs-1.4.7-py3-none-any.whl (5.4 kB)\n",
            "Requirement already satisfied: click-plugins in /usr/local/lib/python3.10/dist-packages (from rasterio>=1.3->geocube) (1.1.1)\n",
            "Requirement already satisfied: setuptools in /usr/local/lib/python3.10/dist-packages (from rasterio>=1.3->geocube) (67.7.2)\n",
            "Requirement already satisfied: cachetools in /usr/local/lib/python3.10/dist-packages (from odc-geo->geocube) (5.3.3)\n",
            "Requirement already satisfied: six in /usr/local/lib/python3.10/dist-packages (from fiona>=1.8.19->geopandas>=0.7->geocube) (1.16.0)\n",
            "Requirement already satisfied: python-dateutil>=2.8.2 in /usr/local/lib/python3.10/dist-packages (from pandas>=1.1.0->geopandas>=0.7->geocube) (2.8.2)\n",
            "Requirement already satisfied: pytz>=2020.1 in /usr/local/lib/python3.10/dist-packages (from pandas>=1.1.0->geopandas>=0.7->geocube) (2023.4)\n",
            "Requirement already satisfied: tzdata>=2022.1 in /usr/local/lib/python3.10/dist-packages (from pandas>=1.1.0->geopandas>=0.7->geocube) (2024.1)\n",
            "Requirement already satisfied: pyparsing>=2.1.6 in /usr/local/lib/python3.10/dist-packages (from snuggs>=1.4.1->rasterio>=1.3->geocube) (3.1.2)\n",
            "Installing collected packages: snuggs, affine, rasterio, odc-geo, rioxarray, geocube\n",
            "Successfully installed affine-2.4.0 geocube-0.5.2 odc-geo-0.4.3 rasterio-1.3.10 rioxarray-0.15.5 snuggs-1.4.7\n"
          ]
        }
      ]
    },
    {
      "cell_type": "code",
      "execution_count": 5,
      "metadata": {
        "id": "5lVwlYMe74FE"
      },
      "outputs": [],
      "source": [
        "import pandas as pd\n",
        "import geopandas as gpd\n",
        "from geocube.api.core import make_geocube\n",
        "from geocube.rasterize import rasterize_image\n",
        "from functools import partial\n",
        "from rasterio.enums import MergeAlg\n",
        "from shapely.geometry import LineString\n",
        "import matplotlib as plt\n",
        "import matplotlib.colors as mcolors\n",
        "import matplotlib.pyplot as plt2\n",
        "import rasterio as rio\n",
        "import numpy as np\n",
        "from scipy import stats\n",
        "import geopandas as gpd\n",
        "import requests\n",
        "from io import BytesIO\n",
        "from zipfile import ZipFile\n"
      ]
    },
    {
      "cell_type": "code",
      "source": [
        "from google.colab import drive\n",
        "drive.mount('/content/drive')"
      ],
      "metadata": {
        "colab": {
          "base_uri": "https://localhost:8080/"
        },
        "id": "kgfq6Xw-AFr_",
        "outputId": "b430a4e7-377f-4aae-f673-a137f296a307"
      },
      "execution_count": 6,
      "outputs": [
        {
          "output_type": "stream",
          "name": "stdout",
          "text": [
            "Mounted at /content/drive\n"
          ]
        }
      ]
    },
    {
      "cell_type": "code",
      "source": [
        "url = 'https://github.com/IsamAljawarneh/datasets/raw/master/data/nyc1.zip'\n",
        "\n",
        "response = requests.get(url)\n",
        "if response.status_code == 200:\n",
        "    with BytesIO(response.content) as file_bytes:\n",
        "        with ZipFile(file_bytes) as zip_file:\n",
        "            zip_names = zip_file.namelist()\n",
        "            with zip_file.open(zip_names[0]) as file:\n",
        "                Taxi_NYC = pd.read_csv(file)\n",
        "                print(Taxi_NYC.head())\n",
        "else:\n",
        "    print(\"Failed to retrieve the file. Status code:\", response.status_code)\n"
      ],
      "metadata": {
        "id": "-vUVHJrp-cVX",
        "colab": {
          "base_uri": "https://localhost:8080/"
        },
        "outputId": "e7c05c10-ba07-478b-8fe7-b2774738c0e7"
      },
      "execution_count": 7,
      "outputs": [
        {
          "output_type": "stream",
          "name": "stdout",
          "text": [
            "   id  VendorID lpep_pickup_datetime Lpep_dropoff_datetime Store_and_fwd_flag  \\\n",
            "0   0         2  2016-01-01 00:29:24   2016-01-01 00:39:36                  N   \n",
            "1   1         2  2016-01-01 00:19:39   2016-01-01 00:39:18                  N   \n",
            "2   2         2  2016-01-01 00:19:33   2016-01-01 00:39:48                  N   \n",
            "3   3         2  2016-01-01 00:22:12   2016-01-01 00:38:32                  N   \n",
            "4   4         2  2016-01-01 00:24:01   2016-01-01 00:39:22                  N   \n",
            "\n",
            "   RateCodeID  Pickup_longitude  Pickup_latitude  Dropoff_longitude  \\\n",
            "0           1        -73.928642        40.680611         -73.924278   \n",
            "1           1        -73.952675        40.723175         -73.923920   \n",
            "2           1        -73.971611        40.676105         -74.013161   \n",
            "3           1        -73.989502        40.669579         -74.000648   \n",
            "4           1        -73.964729        40.682854         -73.940720   \n",
            "\n",
            "   Dropoff_latitude  ...  Fare_amount  Extra  MTA_tax  Tip_amount  \\\n",
            "0         40.698044  ...          8.0    0.5      0.5        1.86   \n",
            "1         40.761379  ...         15.5    0.5      0.5        0.00   \n",
            "2         40.646072  ...         16.5    0.5      0.5        4.45   \n",
            "3         40.689034  ...         13.5    0.5      0.5        0.00   \n",
            "4         40.663013  ...         12.0    0.5      0.5        0.00   \n",
            "\n",
            "   Tolls_amount  Ehail_fee  improvement_surcharge  Total_amount  Payment_type  \\\n",
            "0           0.0        NaN                    0.3         11.16             1   \n",
            "1           0.0        NaN                    0.3         16.80             2   \n",
            "2           0.0        NaN                    0.3         22.25             1   \n",
            "3           0.0        NaN                    0.3         14.80             2   \n",
            "4           0.0        NaN                    0.3         13.30             2   \n",
            "\n",
            "   Trip_type  \n",
            "0        1.0  \n",
            "1        1.0  \n",
            "2        1.0  \n",
            "3        1.0  \n",
            "4        1.0  \n",
            "\n",
            "[5 rows x 22 columns]\n"
          ]
        }
      ]
    },
    {
      "cell_type": "code",
      "source": [
        "# Convert Long Lat into numeric type\n",
        "Taxi_NYC['Pickup_longitude'] = pd.to_numeric(Taxi_NYC['Pickup_longitude'])\n",
        "Taxi_NYC['Pickup_latitude'] = pd.to_numeric(Taxi_NYC['Pickup_latitude'])\n",
        "Taxi_NYC['Dropoff_longitude'] = pd.to_numeric(Taxi_NYC['Dropoff_longitude'])\n",
        "Taxi_NYC['Dropoff_latitude'] = pd.to_numeric(Taxi_NYC['Dropoff_latitude'])\n",
        "print(Taxi_NYC)"
      ],
      "metadata": {
        "colab": {
          "base_uri": "https://localhost:8080/"
        },
        "id": "P_xCcDWvBFdF",
        "outputId": "162ba70e-00ba-4395-89b4-e1838f02a28e"
      },
      "execution_count": 8,
      "outputs": [
        {
          "output_type": "stream",
          "name": "stdout",
          "text": [
            "              id  VendorID lpep_pickup_datetime Lpep_dropoff_datetime  \\\n",
            "0              0         2  2016-01-01 00:29:24   2016-01-01 00:39:36   \n",
            "1              1         2  2016-01-01 00:19:39   2016-01-01 00:39:18   \n",
            "2              2         2  2016-01-01 00:19:33   2016-01-01 00:39:48   \n",
            "3              3         2  2016-01-01 00:22:12   2016-01-01 00:38:32   \n",
            "4              4         2  2016-01-01 00:24:01   2016-01-01 00:39:22   \n",
            "...          ...       ...                  ...                   ...   \n",
            "1445280  1445280         2  2016-01-31 23:59:36   2016-02-01 00:07:53   \n",
            "1445281  1445281         2  2016-01-31 23:26:06   2016-01-31 23:31:22   \n",
            "1445282  1445282         2  2016-01-31 23:50:36   2016-01-31 23:56:19   \n",
            "1445283  1445283         2  2016-01-31 23:57:47   2016-02-01 00:06:58   \n",
            "1445284  1445284         2  2016-01-31 23:59:54   2016-02-01 00:07:06   \n",
            "\n",
            "        Store_and_fwd_flag  RateCodeID  Pickup_longitude  Pickup_latitude  \\\n",
            "0                        N           1        -73.928642        40.680611   \n",
            "1                        N           1        -73.952675        40.723175   \n",
            "2                        N           1        -73.971611        40.676105   \n",
            "3                        N           1        -73.989502        40.669579   \n",
            "4                        N           1        -73.964729        40.682854   \n",
            "...                    ...         ...               ...              ...   \n",
            "1445280                  N           1        -73.807716        40.700451   \n",
            "1445281                  N           1        -73.951408        40.714001   \n",
            "1445282                  N           1        -73.954842        40.730213   \n",
            "1445283                  N           1        -73.953491        40.817211   \n",
            "1445284                  N           1        -73.892578        40.747250   \n",
            "\n",
            "         Dropoff_longitude  Dropoff_latitude  ...  Fare_amount  Extra  \\\n",
            "0               -73.924278         40.698044  ...          8.0    0.5   \n",
            "1               -73.923920         40.761379  ...         15.5    0.5   \n",
            "2               -74.013161         40.646072  ...         16.5    0.5   \n",
            "3               -74.000648         40.689034  ...         13.5    0.5   \n",
            "4               -73.940720         40.663013  ...         12.0    0.5   \n",
            "...                    ...               ...  ...          ...    ...   \n",
            "1445280         -73.768478         40.698082  ...         10.5    0.5   \n",
            "1445281         -73.941483         40.724766  ...          6.0    0.5   \n",
            "1445282         -73.944626         40.726303  ...          6.5    0.5   \n",
            "1445283         -73.977127         40.779583  ...         10.5    0.5   \n",
            "1445284         -73.910049         40.775539  ...         10.0    0.5   \n",
            "\n",
            "         MTA_tax  Tip_amount  Tolls_amount  Ehail_fee  improvement_surcharge  \\\n",
            "0            0.5        1.86           0.0        NaN                    0.3   \n",
            "1            0.5        0.00           0.0        NaN                    0.3   \n",
            "2            0.5        4.45           0.0        NaN                    0.3   \n",
            "3            0.5        0.00           0.0        NaN                    0.3   \n",
            "4            0.5        0.00           0.0        NaN                    0.3   \n",
            "...          ...         ...           ...        ...                    ...   \n",
            "1445280      0.5        0.00           0.0        NaN                    0.3   \n",
            "1445281      0.5        1.00           0.0        NaN                    0.3   \n",
            "1445282      0.5        2.34           0.0        NaN                    0.3   \n",
            "1445283      0.5        1.50           0.0        NaN                    0.3   \n",
            "1445284      0.5        2.82           0.0        NaN                    0.3   \n",
            "\n",
            "         Total_amount  Payment_type  Trip_type  \n",
            "0               11.16             1        1.0  \n",
            "1               16.80             2        1.0  \n",
            "2               22.25             1        1.0  \n",
            "3               14.80             2        1.0  \n",
            "4               13.30             2        1.0  \n",
            "...               ...           ...        ...  \n",
            "1445280         11.80             2        1.0  \n",
            "1445281          8.30             1        1.0  \n",
            "1445282         10.14             1        1.0  \n",
            "1445283         13.30             1        1.0  \n",
            "1445284         14.12             1        1.0  \n",
            "\n",
            "[1445285 rows x 22 columns]\n"
          ]
        }
      ]
    },
    {
      "cell_type": "code",
      "source": [
        "# List of columns to keep\n",
        "columns_to_keep = ['Pickup_longitude', 'Pickup_latitude', 'Dropoff_longitude', 'Dropoff_latitude']\n",
        "Taxi_NYC = Taxi_NYC[columns_to_keep]\n",
        "\n",
        "print(Taxi_NYC)"
      ],
      "metadata": {
        "colab": {
          "base_uri": "https://localhost:8080/"
        },
        "id": "ZFNRJJwy8kfZ",
        "outputId": "be044531-34bb-49a7-f985-cbd517f210f2"
      },
      "execution_count": 9,
      "outputs": [
        {
          "output_type": "stream",
          "name": "stdout",
          "text": [
            "         Pickup_longitude  Pickup_latitude  Dropoff_longitude  \\\n",
            "0              -73.928642        40.680611         -73.924278   \n",
            "1              -73.952675        40.723175         -73.923920   \n",
            "2              -73.971611        40.676105         -74.013161   \n",
            "3              -73.989502        40.669579         -74.000648   \n",
            "4              -73.964729        40.682854         -73.940720   \n",
            "...                   ...              ...                ...   \n",
            "1445280        -73.807716        40.700451         -73.768478   \n",
            "1445281        -73.951408        40.714001         -73.941483   \n",
            "1445282        -73.954842        40.730213         -73.944626   \n",
            "1445283        -73.953491        40.817211         -73.977127   \n",
            "1445284        -73.892578        40.747250         -73.910049   \n",
            "\n",
            "         Dropoff_latitude  \n",
            "0               40.698044  \n",
            "1               40.761379  \n",
            "2               40.646072  \n",
            "3               40.689034  \n",
            "4               40.663013  \n",
            "...                   ...  \n",
            "1445280         40.698082  \n",
            "1445281         40.724766  \n",
            "1445282         40.726303  \n",
            "1445283         40.779583  \n",
            "1445284         40.775539  \n",
            "\n",
            "[1445285 rows x 4 columns]\n"
          ]
        }
      ]
    },
    {
      "cell_type": "code",
      "source": [
        "# Convert Long Lat into Point Geometry\n",
        "\n",
        "pickup_points = gpd.GeoDataFrame(geometry = gpd.points_from_xy(x=Taxi_NYC['Pickup_longitude'], y=Taxi_NYC['Pickup_latitude']))\n",
        "dropoff_points = gpd.GeoDataFrame(geometry = gpd.points_from_xy(x=Taxi_NYC['Dropoff_longitude'], y=Taxi_NYC['Dropoff_latitude']))\n",
        "\n",
        "print(pickup_points)\n",
        "print(dropoff_points)\n"
      ],
      "metadata": {
        "colab": {
          "base_uri": "https://localhost:8080/"
        },
        "id": "30NPk8s4BUem",
        "outputId": "72842fb8-3276-46f9-d853-e22b3914e695"
      },
      "execution_count": 10,
      "outputs": [
        {
          "output_type": "stream",
          "name": "stdout",
          "text": [
            "                           geometry\n",
            "0        POINT (-73.92864 40.68061)\n",
            "1        POINT (-73.95267 40.72318)\n",
            "2        POINT (-73.97161 40.67611)\n",
            "3        POINT (-73.98950 40.66958)\n",
            "4        POINT (-73.96473 40.68285)\n",
            "...                             ...\n",
            "1445280  POINT (-73.80772 40.70045)\n",
            "1445281  POINT (-73.95141 40.71400)\n",
            "1445282  POINT (-73.95484 40.73021)\n",
            "1445283  POINT (-73.95349 40.81721)\n",
            "1445284  POINT (-73.89258 40.74725)\n",
            "\n",
            "[1445285 rows x 1 columns]\n",
            "                           geometry\n",
            "0        POINT (-73.92428 40.69804)\n",
            "1        POINT (-73.92392 40.76138)\n",
            "2        POINT (-74.01316 40.64607)\n",
            "3        POINT (-74.00065 40.68903)\n",
            "4        POINT (-73.94072 40.66301)\n",
            "...                             ...\n",
            "1445280  POINT (-73.76848 40.69808)\n",
            "1445281  POINT (-73.94148 40.72477)\n",
            "1445282  POINT (-73.94463 40.72630)\n",
            "1445283  POINT (-73.97713 40.77958)\n",
            "1445284  POINT (-73.91005 40.77554)\n",
            "\n",
            "[1445285 rows x 1 columns]\n"
          ]
        }
      ]
    },
    {
      "cell_type": "code",
      "source": [
        "# prompt: concatenate the pickup_pointss and the dropoff_pointss\n",
        "\n",
        "nyc_points = pd.concat([pickup_points, dropoff_points], ignore_index=True)\n",
        "print(nyc_points)"
      ],
      "metadata": {
        "colab": {
          "base_uri": "https://localhost:8080/"
        },
        "id": "OEB18ixJDTxn",
        "outputId": "4b243d01-19f8-46b3-8bb6-6139a7de49f9"
      },
      "execution_count": 11,
      "outputs": [
        {
          "output_type": "stream",
          "name": "stdout",
          "text": [
            "                           geometry\n",
            "0        POINT (-73.92864 40.68061)\n",
            "1        POINT (-73.95267 40.72318)\n",
            "2        POINT (-73.97161 40.67611)\n",
            "3        POINT (-73.98950 40.66958)\n",
            "4        POINT (-73.96473 40.68285)\n",
            "...                             ...\n",
            "2890565  POINT (-73.76848 40.69808)\n",
            "2890566  POINT (-73.94148 40.72477)\n",
            "2890567  POINT (-73.94463 40.72630)\n",
            "2890568  POINT (-73.97713 40.77958)\n",
            "2890569  POINT (-73.91005 40.77554)\n",
            "\n",
            "[2890570 rows x 1 columns]\n"
          ]
        }
      ]
    },
    {
      "cell_type": "code",
      "source": [
        "# prompt: i want the ten maximum and minimum values from x and y and display them\n",
        "\n",
        "minimum_x = nyc_points.geometry.x.min()\n",
        "maximum_x = nyc_points.geometry.x.max()\n",
        "minimum_y = nyc_points.geometry.y.min()\n",
        "maximum_y = nyc_points.geometry.y.max()\n",
        "\n",
        "print(\"Minimum x:\", minimum_x)\n",
        "print(\"Maximum x:\", maximum_x)\n",
        "print(\"Minimum y:\", minimum_y)\n",
        "print(\"Maximum y:\", maximum_y)\n",
        "\n",
        "# Get the ten maximum and minimum values from x and y\n",
        "max_x_values = nyc_points.geometry.x.nlargest(10)\n",
        "min_x_values = nyc_points.geometry.x.nsmallest(10)\n",
        "max_y_values = nyc_points.geometry.y.nlargest(10)\n",
        "min_y_values = nyc_points.geometry.y.nsmallest(10)\n",
        "\n",
        "# Display the maximum and minimum values\n",
        "print(\"Maximum x values:\", max_x_values, sep = \"\\n\")\n",
        "print(\"Minimum x values:\", min_x_values, sep = \"\\n\")\n",
        "print(\"Maximum y values:\", max_y_values, sep = \"\\n\")\n",
        "print(\"Minimum y values:\", min_y_values, sep = \"\\n\")\n"
      ],
      "metadata": {
        "colab": {
          "base_uri": "https://localhost:8080/"
        },
        "id": "-j6Ge0s1t23j",
        "outputId": "2c9d7070-8870-4635-88ea-5d6bda0a2b73"
      },
      "execution_count": 12,
      "outputs": [
        {
          "output_type": "stream",
          "name": "stdout",
          "text": [
            "Minimum x: -115.18130493164062\n",
            "Maximum x: 0.0\n",
            "Minimum y: 0.0\n",
            "Maximum y: 43.168006896972656\n",
            "Maximum x values:\n",
            "5239     0.0\n",
            "6216     0.0\n",
            "6424     0.0\n",
            "7355     0.0\n",
            "9219     0.0\n",
            "10835    0.0\n",
            "12381    0.0\n",
            "12618    0.0\n",
            "12888    0.0\n",
            "13239    0.0\n",
            "dtype: float64\n",
            "Minimum x values:\n",
            "1203026   -115.181305\n",
            "2822033   -115.178856\n",
            "1421710   -115.177605\n",
            "1411369   -115.177559\n",
            "1443756   -115.175995\n",
            "2842901   -115.175560\n",
            "2889042   -115.175484\n",
            "1384820   -115.175385\n",
            "2752958   -115.175354\n",
            "2761383   -115.175308\n",
            "dtype: float64\n",
            "Maximum y values:\n",
            "1219444    43.168007\n",
            "2073455    42.694790\n",
            "635770     42.694782\n",
            "635904     42.694782\n",
            "2081055    42.694782\n",
            "2081189    42.694782\n",
            "635820     42.694775\n",
            "2081105    42.694775\n",
            "1028932    42.324322\n",
            "1028933    42.324322\n",
            "dtype: float64\n",
            "Minimum y values:\n",
            "5239     0.0\n",
            "6216     0.0\n",
            "6424     0.0\n",
            "7355     0.0\n",
            "9219     0.0\n",
            "10835    0.0\n",
            "12381    0.0\n",
            "12618    0.0\n",
            "12888    0.0\n",
            "13239    0.0\n",
            "dtype: float64\n"
          ]
        }
      ]
    },
    {
      "cell_type": "code",
      "source": [
        "print(nyc_points)"
      ],
      "metadata": {
        "colab": {
          "base_uri": "https://localhost:8080/"
        },
        "id": "sH4n_aru0whN",
        "outputId": "396b8d96-4739-48c4-fce0-f9dc7bd9a8a9"
      },
      "execution_count": 13,
      "outputs": [
        {
          "output_type": "stream",
          "name": "stdout",
          "text": [
            "                           geometry\n",
            "0        POINT (-73.92864 40.68061)\n",
            "1        POINT (-73.95267 40.72318)\n",
            "2        POINT (-73.97161 40.67611)\n",
            "3        POINT (-73.98950 40.66958)\n",
            "4        POINT (-73.96473 40.68285)\n",
            "...                             ...\n",
            "2890565  POINT (-73.76848 40.69808)\n",
            "2890566  POINT (-73.94148 40.72477)\n",
            "2890567  POINT (-73.94463 40.72630)\n",
            "2890568  POINT (-73.97713 40.77958)\n",
            "2890569  POINT (-73.91005 40.77554)\n",
            "\n",
            "[2890570 rows x 1 columns]\n"
          ]
        }
      ]
    },
    {
      "cell_type": "code",
      "source": [
        "def remove_outliers_zscore(geodataframe, threshold=3):\n",
        "    # Extracting coordinates from geometry\n",
        "    coords = np.array([(point.x, point.y) for point in geodataframe.geometry])\n",
        "\n",
        "    # Calculating z-scores for both longitude and latitude\n",
        "    z_scores_lon = np.abs(stats.zscore(coords[:, 0]))\n",
        "    z_scores_lat = np.abs(stats.zscore(coords[:, 1]))\n",
        "\n",
        "    # Find outliers for both longitude and latitude\n",
        "    outliers = (z_scores_lon > threshold) | (z_scores_lat > threshold)\n",
        "\n",
        "    # Remove outliers\n",
        "    cleaned_geodataframe = geodataframe[~outliers].copy()\n",
        "    return cleaned_geodataframe"
      ],
      "metadata": {
        "id": "7CyWtOwHZJ3z"
      },
      "execution_count": 14,
      "outputs": []
    },
    {
      "cell_type": "code",
      "source": [
        "nyc_points = remove_outliers_zscore(nyc_points)"
      ],
      "metadata": {
        "id": "UQnPMap4ZmQ6"
      },
      "execution_count": 15,
      "outputs": []
    },
    {
      "cell_type": "code",
      "source": [
        "# prompt: i want the ten maximum and minimum values from x and y and display them\n",
        "\n",
        "minimum_x = nyc_points.geometry.x.min()\n",
        "maximum_x = nyc_points.geometry.x.max()\n",
        "minimum_y = nyc_points.geometry.y.min()\n",
        "maximum_y = nyc_points.geometry.y.max()\n",
        "\n",
        "print(\"Minimum x:\", minimum_x)\n",
        "print(\"Maximum x:\", maximum_x)\n",
        "print(\"Minimum y:\", minimum_y)\n",
        "print(\"Maximum y:\", maximum_y)\n",
        "\n",
        "# Get the ten maximum and minimum values from x and y\n",
        "max_x_values = nyc_points.geometry.x.nlargest(10)\n",
        "min_x_values = nyc_points.geometry.x.nsmallest(10)\n",
        "max_y_values = nyc_points.geometry.y.nlargest(10)\n",
        "min_y_values = nyc_points.geometry.y.nsmallest(10)\n",
        "\n",
        "# Display the maximum and minimum values\n",
        "print(\"Maximum x values:\", max_x_values, sep = \"\\n\")\n",
        "print(\"Minimum x values:\", min_x_values, sep = \"\\n\")\n",
        "print(\"Maximum y values:\", max_y_values, sep = \"\\n\")\n",
        "print(\"Minimum y values:\", min_y_values, sep = \"\\n\")"
      ],
      "metadata": {
        "colab": {
          "base_uri": "https://localhost:8080/"
        },
        "id": "vbnEllL5zbGW",
        "outputId": "96211940-8752-453d-9de4-b4921ed4f035"
      },
      "execution_count": 16,
      "outputs": [
        {
          "output_type": "stream",
          "name": "stdout",
          "text": [
            "Minimum x: -78.25851440429688\n",
            "Maximum x: -70.14051818847656\n",
            "Minimum y: 37.52218627929688\n",
            "Maximum y: 43.168006896972656\n",
            "Maximum x values:\n",
            "1199026   -70.140518\n",
            "343100    -71.070084\n",
            "1788385   -71.070107\n",
            "1028934   -71.070122\n",
            "343067    -71.070152\n",
            "1028932   -71.070175\n",
            "2474219   -71.070175\n",
            "1028935   -71.070183\n",
            "1788185   -71.070183\n",
            "1788352   -71.070183\n",
            "dtype: float64\n",
            "Minimum x values:\n",
            "280751    -78.258514\n",
            "1967689   -77.526421\n",
            "2717555   -76.685287\n",
            "1272270   -76.432892\n",
            "2553028   -75.939247\n",
            "1107743   -75.938301\n",
            "2553031   -75.932281\n",
            "1107746   -75.932205\n",
            "1107744   -75.926674\n",
            "1107747   -75.925430\n",
            "dtype: float64\n",
            "Maximum y values:\n",
            "1219444    43.168007\n",
            "2073455    42.694790\n",
            "635770     42.694782\n",
            "635904     42.694782\n",
            "2081055    42.694782\n",
            "2081189    42.694782\n",
            "635820     42.694775\n",
            "2081105    42.694775\n",
            "1028932    42.324322\n",
            "1028933    42.324322\n",
            "dtype: float64\n",
            "Minimum y values:\n",
            "280751     37.522186\n",
            "1272270    38.197365\n",
            "2717555    38.633171\n",
            "1568428    39.355820\n",
            "123143     39.356133\n",
            "2777886    39.374725\n",
            "2767190    39.656254\n",
            "2409769    39.675259\n",
            "2409770    39.678757\n",
            "964486     39.684895\n",
            "dtype: float64\n"
          ]
        }
      ]
    },
    {
      "cell_type": "code",
      "source": [
        "print(nyc_points)"
      ],
      "metadata": {
        "colab": {
          "base_uri": "https://localhost:8080/"
        },
        "id": "B9jNnZYR0k8_",
        "outputId": "4ebe6b1b-a11b-4be4-e606-dd10995edd8c"
      },
      "execution_count": 17,
      "outputs": [
        {
          "output_type": "stream",
          "name": "stdout",
          "text": [
            "                           geometry\n",
            "0        POINT (-73.92864 40.68061)\n",
            "1        POINT (-73.95267 40.72318)\n",
            "2        POINT (-73.97161 40.67611)\n",
            "3        POINT (-73.98950 40.66958)\n",
            "4        POINT (-73.96473 40.68285)\n",
            "...                             ...\n",
            "2890565  POINT (-73.76848 40.69808)\n",
            "2890566  POINT (-73.94148 40.72477)\n",
            "2890567  POINT (-73.94463 40.72630)\n",
            "2890568  POINT (-73.97713 40.77958)\n",
            "2890569  POINT (-73.91005 40.77554)\n",
            "\n",
            "[2885598 rows x 1 columns]\n"
          ]
        }
      ]
    },
    {
      "cell_type": "code",
      "source": [
        "nyc_points = remove_outliers_zscore(nyc_points, threshold = 9)"
      ],
      "metadata": {
        "id": "uo8a_Vm_-9Qc"
      },
      "execution_count": 18,
      "outputs": []
    },
    {
      "cell_type": "code",
      "source": [
        "print(nyc_points)"
      ],
      "metadata": {
        "colab": {
          "base_uri": "https://localhost:8080/"
        },
        "id": "Iy41G0ud_XN4",
        "outputId": "82ade88e-75a8-47fe-f3dd-7e9e745de136"
      },
      "execution_count": 19,
      "outputs": [
        {
          "output_type": "stream",
          "name": "stdout",
          "text": [
            "                           geometry\n",
            "0        POINT (-73.92864 40.68061)\n",
            "1        POINT (-73.95267 40.72318)\n",
            "2        POINT (-73.97161 40.67611)\n",
            "3        POINT (-73.98950 40.66958)\n",
            "4        POINT (-73.96473 40.68285)\n",
            "...                             ...\n",
            "2890565  POINT (-73.76848 40.69808)\n",
            "2890566  POINT (-73.94148 40.72477)\n",
            "2890567  POINT (-73.94463 40.72630)\n",
            "2890568  POINT (-73.97713 40.77958)\n",
            "2890569  POINT (-73.91005 40.77554)\n",
            "\n",
            "[2885225 rows x 1 columns]\n"
          ]
        }
      ]
    },
    {
      "cell_type": "code",
      "source": [
        "nyc_points = nyc_points.set_crs('EPSG:4326')\n",
        "nyc_points = nyc_points.to_crs('EPSG:3857')\n",
        "nyc_points['value'] = 1\n",
        "nyc_points = nyc_points[nyc_points.is_valid]\n",
        "nyc_points = nyc_points[~nyc_points.is_empty]"
      ],
      "metadata": {
        "id": "Ze-S8CqJC7ja"
      },
      "execution_count": 20,
      "outputs": []
    },
    {
      "cell_type": "code",
      "source": [
        "Taxi_NYC_raster = make_geocube(\n",
        "        vector_data = nyc_points,\n",
        "        measurements = [\"value\"],\n",
        "        resolution = (-50, 50),\n",
        "        rasterize_function=partial(rasterize_image, merge_alg=MergeAlg.add),\n",
        "        fill = 0)"
      ],
      "metadata": {
        "id": "5Q_7LMLEMHUW"
      },
      "execution_count": 21,
      "outputs": []
    },
    {
      "cell_type": "code",
      "source": [
        "Taxi_NYC_raster.rio.to_raster(r'/content/drive/MyDrive/ds-project-raster-compare/datasets/Taxi_NYC3950.tiff')"
      ],
      "metadata": {
        "id": "nwbP4wr6bc26"
      },
      "execution_count": 24,
      "outputs": []
    },
    {
      "cell_type": "code",
      "source": [
        "landsat = rio.open(\"/content/drive/MyDrive/ds-project-raster-compare/datasets/Taxi_NYC3950.tiff\")"
      ],
      "metadata": {
        "id": "YH-1w8Yb2nWk"
      },
      "execution_count": 26,
      "outputs": []
    },
    {
      "cell_type": "code",
      "source": [
        "# The CRS\n",
        "landsat.crs"
      ],
      "metadata": {
        "colab": {
          "base_uri": "https://localhost:8080/"
        },
        "id": "R112lmQM37tR",
        "outputId": "f6344226-965e-4356-dfec-9f420357e552"
      },
      "execution_count": 27,
      "outputs": [
        {
          "output_type": "execute_result",
          "data": {
            "text/plain": [
              "CRS.from_epsg(3857)"
            ]
          },
          "metadata": {},
          "execution_count": 27
        }
      ]
    },
    {
      "cell_type": "code",
      "source": [
        "# The bounds\n",
        "landsat.bounds"
      ],
      "metadata": {
        "colab": {
          "base_uri": "https://localhost:8080/"
        },
        "id": "fB2HZ8aA4FDR",
        "outputId": "97173397-826e-4c90-9aa6-81a856dd6fc6"
      },
      "execution_count": 28,
      "outputs": [
        {
          "output_type": "execute_result",
          "data": {
            "text/plain": [
              "BoundingBox(left=-8278250.0, bottom=4904200.0, right=-8182750.0, top=5043100.0)"
            ]
          },
          "metadata": {},
          "execution_count": 28
        }
      ]
    },
    {
      "cell_type": "code",
      "source": [
        "# The number of bands available\n",
        "landsat.count"
      ],
      "metadata": {
        "colab": {
          "base_uri": "https://localhost:8080/"
        },
        "id": "8uTwsyOZ4MYF",
        "outputId": "8c1c1160-beb9-4f06-e1e5-a94a0bcf77fb"
      },
      "execution_count": 29,
      "outputs": [
        {
          "output_type": "execute_result",
          "data": {
            "text/plain": [
              "1"
            ]
          },
          "metadata": {},
          "execution_count": 29
        }
      ]
    },
    {
      "cell_type": "code",
      "source": [
        "# The band numbers that are available\n",
        "landsat.indexes"
      ],
      "metadata": {
        "colab": {
          "base_uri": "https://localhost:8080/"
        },
        "id": "h0o9F7IV4RFw",
        "outputId": "75fdf74b-ac48-423f-9972-ceadc125ddde"
      },
      "execution_count": 30,
      "outputs": [
        {
          "output_type": "execute_result",
          "data": {
            "text/plain": [
              "(1,)"
            ]
          },
          "metadata": {},
          "execution_count": 30
        }
      ]
    },
    {
      "cell_type": "code",
      "source": [
        "# Number of pixels in the x and y directions\n",
        "landsat.shape"
      ],
      "metadata": {
        "colab": {
          "base_uri": "https://localhost:8080/"
        },
        "id": "wzt4HAjt4VrC",
        "outputId": "1854075a-aaea-4691-a193-3aa8c0ac577f"
      },
      "execution_count": 31,
      "outputs": [
        {
          "output_type": "execute_result",
          "data": {
            "text/plain": [
              "(2778, 1910)"
            ]
          },
          "metadata": {},
          "execution_count": 31
        }
      ]
    },
    {
      "cell_type": "code",
      "source": [
        "# The 6 parameters that map from pixel to real space\n",
        "landsat.transform"
      ],
      "metadata": {
        "colab": {
          "base_uri": "https://localhost:8080/"
        },
        "id": "m3PJ74RR4cBk",
        "outputId": "1ba800f8-c34f-4f6e-d02c-68b89e38d91c"
      },
      "execution_count": 32,
      "outputs": [
        {
          "output_type": "execute_result",
          "data": {
            "text/plain": [
              "Affine(50.0, 0.0, -8278250.0,\n",
              "       0.0, -50.0, 5043100.0)"
            ]
          },
          "metadata": {},
          "execution_count": 32
        }
      ]
    },
    {
      "cell_type": "code",
      "source": [
        "# All of the meta data\n",
        "landsat.meta"
      ],
      "metadata": {
        "colab": {
          "base_uri": "https://localhost:8080/"
        },
        "id": "UgRPP4vx4jnH",
        "outputId": "6456f39d-67e2-47d1-b05f-889ee50e5120"
      },
      "execution_count": 33,
      "outputs": [
        {
          "output_type": "execute_result",
          "data": {
            "text/plain": [
              "{'driver': 'GTiff',\n",
              " 'dtype': 'int64',\n",
              " 'nodata': 0.0,\n",
              " 'width': 1910,\n",
              " 'height': 2778,\n",
              " 'count': 1,\n",
              " 'crs': CRS.from_epsg(3857),\n",
              " 'transform': Affine(50.0, 0.0, -8278250.0,\n",
              "        0.0, -50.0, 5043100.0)}"
            ]
          },
          "metadata": {},
          "execution_count": 33
        }
      ]
    },
    {
      "cell_type": "code",
      "source": [
        "# This is just a numpy array\n",
        "data = landsat.read(1)\n",
        "data"
      ],
      "metadata": {
        "colab": {
          "base_uri": "https://localhost:8080/"
        },
        "id": "-XQ_T4_l4pWc",
        "outputId": "ccf0b28b-ccf3-4635-9d61-ec6ef4a66221"
      },
      "execution_count": 34,
      "outputs": [
        {
          "output_type": "execute_result",
          "data": {
            "text/plain": [
              "array([[0, 0, 0, ..., 0, 0, 0],\n",
              "       [0, 0, 0, ..., 0, 0, 0],\n",
              "       [0, 0, 0, ..., 0, 0, 0],\n",
              "       ...,\n",
              "       [0, 0, 0, ..., 0, 0, 0],\n",
              "       [0, 0, 0, ..., 0, 0, 0],\n",
              "       [0, 0, 0, ..., 0, 0, 0]])"
            ]
          },
          "metadata": {},
          "execution_count": 34
        }
      ]
    },
    {
      "cell_type": "code",
      "source": [
        "fig, ax = plt2.subplots(figsize=(10,10))\n",
        "\n",
        "img = ax.imshow(data)\n",
        "\n",
        "plt2.colorbar(img)"
      ],
      "metadata": {
        "colab": {
          "base_uri": "https://localhost:8080/",
          "height": 853
        },
        "id": "m4d9XFVG4zb_",
        "outputId": "64ca1f0f-e3ea-48db-d56f-3d319a5981f8"
      },
      "execution_count": 35,
      "outputs": [
        {
          "output_type": "execute_result",
          "data": {
            "text/plain": [
              "<matplotlib.colorbar.Colorbar at 0x7e8410040610>"
            ]
          },
          "metadata": {},
          "execution_count": 35
        },
        {
          "output_type": "display_data",
          "data": {
            "text/plain": [
              "<Figure size 1000x1000 with 2 Axes>"
            ],
            "image/png": "[encoded data removed]"
          },
          "metadata": {}
        }
      ]
    },
    {
      "cell_type": "code",
      "source": [
        "\n",
        "url = 'https://raw.githubusercontent.com/IsamAljawarneh/datasets/master/data/NYC_AQ.csv'\n",
        "\n",
        "# Read the CSV file into a DataFrame\n",
        "NYC_AQ = pd.read_csv(url)\n",
        "\n",
        "# Display the first few rows of the DataFrame\n",
        "print(NYC_AQ.head())"
      ],
      "metadata": {
        "id": "aJMXxJkJO3AI",
        "outputId": "e9b2c712-f2d5-4e46-cc81-067e580ae598",
        "colab": {
          "base_uri": "https://localhost:8080/",
          "height": 210
        }
      },
      "execution_count": 3,
      "outputs": [
        {
          "output_type": "error",
          "ename": "NameError",
          "evalue": "name 'pd' is not defined",
          "traceback": [
            "\u001b[0;31m---------------------------------------------------------------------------\u001b[0m",
            "\u001b[0;31mNameError\u001b[0m                                 Traceback (most recent call last)",
            "\u001b[0;32m<ipython-input-3-b7e7cda28877>\u001b[0m in \u001b[0;36m<cell line: 4>\u001b[0;34m()\u001b[0m\n\u001b[1;32m      2\u001b[0m \u001b[0;34m\u001b[0m\u001b[0m\n\u001b[1;32m      3\u001b[0m \u001b[0;31m# Read the CSV file into a DataFrame\u001b[0m\u001b[0;34m\u001b[0m\u001b[0;34m\u001b[0m\u001b[0m\n\u001b[0;32m----> 4\u001b[0;31m \u001b[0mNYC_AQ\u001b[0m \u001b[0;34m=\u001b[0m \u001b[0mpd\u001b[0m\u001b[0;34m.\u001b[0m\u001b[0mread_csv\u001b[0m\u001b[0;34m(\u001b[0m\u001b[0murl\u001b[0m\u001b[0;34m)\u001b[0m\u001b[0;34m\u001b[0m\u001b[0;34m\u001b[0m\u001b[0m\n\u001b[0m\u001b[1;32m      5\u001b[0m \u001b[0;34m\u001b[0m\u001b[0m\n\u001b[1;32m      6\u001b[0m \u001b[0;31m# Display the first few rows of the DataFrame\u001b[0m\u001b[0;34m\u001b[0m\u001b[0;34m\u001b[0m\u001b[0m\n",
            "\u001b[0;31mNameError\u001b[0m: name 'pd' is not defined"
          ]
        }
      ]
    },
    {
      "cell_type": "code",
      "source": [
        "# List of columns to keep\n",
        "columns_to_keep = ['latitude', 'longitude', 'pm25']\n",
        "NYC_AQ = NYC_AQ[columns_to_keep]\n",
        "\n",
        "print(NYC_AQ)"
      ],
      "metadata": {
        "id": "AG9aB6z0PEXy",
        "outputId": "930f9ed6-699e-40b0-a6f5-53c8ec07ffb7",
        "colab": {
          "base_uri": "https://localhost:8080/"
        }
      },
      "execution_count": 40,
      "outputs": [
        {
          "output_type": "stream",
          "name": "stdout",
          "text": [
            "         latitude  longitude      pm25\n",
            "0       40.847672 -73.869316  4.508813\n",
            "1       40.847668 -73.869316  5.462420\n",
            "2       40.847649 -73.869362  5.154881\n",
            "3       40.847649 -73.869362  4.508813\n",
            "4       40.847649 -73.869362  5.539503\n",
            "...           ...        ...       ...\n",
            "169994  40.823353 -73.890488  5.460360\n",
            "169995  40.823349 -73.890480  5.298209\n",
            "169996  40.823349 -73.890480  6.470661\n",
            "169997  40.823345 -73.890488  6.424142\n",
            "169998  40.823338 -73.890488  6.526187\n",
            "\n",
            "[169999 rows x 3 columns]\n"
          ]
        }
      ]
    },
    {
      "cell_type": "code",
      "source": [
        "# Convert Long Lat into numeric type\n",
        "NYC_AQ['longitude'] = pd.to_numeric(NYC_AQ['longitude'])\n",
        "NYC_AQ['latitude'] = pd.to_numeric(NYC_AQ['latitude'])"
      ],
      "metadata": {
        "id": "HZyTEnj0Re2I"
      },
      "execution_count": 41,
      "outputs": []
    },
    {
      "cell_type": "code",
      "source": [
        "AQ_points = gpd.GeoDataFrame(geometry = gpd.points_from_xy(x=NYC_AQ['longitude'], y=NYC_AQ['latitude']))"
      ],
      "metadata": {
        "id": "x6tco_BIQ5RP"
      },
      "execution_count": 43,
      "outputs": []
    },
    {
      "cell_type": "code",
      "source": [
        "AQ_points = AQ_points.set_crs('EPSG:4326')\n",
        "AQ_points = AQ_points.to_crs('EPSG:3857')\n",
        "AQ_points['pm25'] = NYC_AQ['pm25']\n",
        "AQ_points = AQ_points[AQ_points.is_valid]\n",
        "AQ_points = AQ_points[~AQ_points.is_empty]\n",
        "print(AQ_points)"
      ],
      "metadata": {
        "id": "hKPza02XRwql",
        "outputId": "c3fc75e7-b06a-4474-9e17-d370e16e38dd",
        "colab": {
          "base_uri": "https://localhost:8080/"
        }
      },
      "execution_count": 44,
      "outputs": [
        {
          "output_type": "stream",
          "name": "stdout",
          "text": [
            "                                geometry     value\n",
            "0       POINT (-8223094.642 4989899.216)  4.508813\n",
            "1       POINT (-8223094.642 4989898.627)  5.462420\n",
            "2       POINT (-8223099.763 4989895.831)  5.154881\n",
            "3       POINT (-8223099.763 4989895.831)  4.508813\n",
            "4       POINT (-8223099.763 4989895.831)  5.539503\n",
            "...                                  ...       ...\n",
            "169994  POINT (-8225451.499 4986321.083)  5.460360\n",
            "169995  POINT (-8225450.608 4986320.495)  5.298209\n",
            "169996  POINT (-8225450.608 4986320.495)  6.470661\n",
            "169997  POINT (-8225451.499 4986319.907)  6.424142\n",
            "169998  POINT (-8225451.499 4986318.877)  6.526187\n",
            "\n",
            "[169999 rows x 2 columns]\n"
          ]
        }
      ]
    },
    {
      "cell_type": "code",
      "source": [
        "AQ_NYC_raster = make_geocube(\n",
        "    vector_data=AQ_points,\n",
        "    measurements=[\"pm25\"],  # Ensure this is the PM2.5 data\n",
        "    resolution=(-50, 50),    # Make sure the resolution matches your needs\n",
        "    rasterize_function=partial(rasterize_image, merge_alg=MergeAlg.add),\n",
        "    fill=0                   # Handling nodata values\n",
        ")"
      ],
      "metadata": {
        "id": "UVyVU3ekSbjt"
      },
      "execution_count": 47,
      "outputs": []
    },
    {
      "cell_type": "code",
      "source": [
        "AQ_NYC_raster.rio.to_raster(r'/content/drive/MyDrive/ds-project-raster-compare/datasets/AQ_NYC_raster.tiff')"
      ],
      "metadata": {
        "id": "djop0VMASuKv",
        "outputId": "bb204c04-247f-4b2b-ee56-24ff8efa06e0",
        "colab": {
          "base_uri": "https://localhost:8080/",
          "height": 408
        }
      },
      "execution_count": 51,
      "outputs": [
        {
          "output_type": "error",
          "ename": "KeyError",
          "evalue": "'pm25'",
          "traceback": [
            "\u001b[0;31m---------------------------------------------------------------------------\u001b[0m",
            "\u001b[0;31mKeyError\u001b[0m                                  Traceback (most recent call last)",
            "\u001b[0;32m/usr/local/lib/python3.10/dist-packages/xarray/core/dataset.py\u001b[0m in \u001b[0;36m_construct_dataarray\u001b[0;34m(self, name)\u001b[0m\n\u001b[1;32m   1392\u001b[0m         \u001b[0;32mtry\u001b[0m\u001b[0;34m:\u001b[0m\u001b[0;34m\u001b[0m\u001b[0;34m\u001b[0m\u001b[0m\n\u001b[0;32m-> 1393\u001b[0;31m             \u001b[0mvariable\u001b[0m \u001b[0;34m=\u001b[0m \u001b[0mself\u001b[0m\u001b[0;34m.\u001b[0m\u001b[0m_variables\u001b[0m\u001b[0;34m[\u001b[0m\u001b[0mname\u001b[0m\u001b[0;34m]\u001b[0m\u001b[0;34m\u001b[0m\u001b[0;34m\u001b[0m\u001b[0m\n\u001b[0m\u001b[1;32m   1394\u001b[0m         \u001b[0;32mexcept\u001b[0m \u001b[0mKeyError\u001b[0m\u001b[0;34m:\u001b[0m\u001b[0;34m\u001b[0m\u001b[0;34m\u001b[0m\u001b[0m\n",
            "\u001b[0;31mKeyError\u001b[0m: 'pm25'",
            "\nDuring handling of the above exception, another exception occurred:\n",
            "\u001b[0;31mKeyError\u001b[0m                                  Traceback (most recent call last)",
            "\u001b[0;32m<ipython-input-51-8853e95aa585>\u001b[0m in \u001b[0;36m<cell line: 1>\u001b[0;34m()\u001b[0m\n\u001b[0;32m----> 1\u001b[0;31m \u001b[0mAQ_NYC_raster\u001b[0m\u001b[0;34m[\u001b[0m\u001b[0;34m\"pm25\"\u001b[0m\u001b[0;34m]\u001b[0m\u001b[0;34m.\u001b[0m\u001b[0mrio\u001b[0m\u001b[0;34m.\u001b[0m\u001b[0mto_raster\u001b[0m\u001b[0;34m(\u001b[0m\u001b[0;34mr'/content/drive/MyDrive/ds-project-raster-compare/datasets/AQ_NYC_raster.tiff'\u001b[0m\u001b[0;34m)\u001b[0m\u001b[0;34m\u001b[0m\u001b[0;34m\u001b[0m\u001b[0m\n\u001b[0m",
            "\u001b[0;32m/usr/local/lib/python3.10/dist-packages/xarray/core/dataset.py\u001b[0m in \u001b[0;36m__getitem__\u001b[0;34m(self, key)\u001b[0m\n\u001b[1;32m   1482\u001b[0m             \u001b[0;32mreturn\u001b[0m \u001b[0mself\u001b[0m\u001b[0;34m.\u001b[0m\u001b[0misel\u001b[0m\u001b[0;34m(\u001b[0m\u001b[0;34m**\u001b[0m\u001b[0mkey\u001b[0m\u001b[0;34m)\u001b[0m\u001b[0;34m\u001b[0m\u001b[0;34m\u001b[0m\u001b[0m\n\u001b[1;32m   1483\u001b[0m         \u001b[0;32mif\u001b[0m \u001b[0mutils\u001b[0m\u001b[0;34m.\u001b[0m\u001b[0mhashable\u001b[0m\u001b[0;34m(\u001b[0m\u001b[0mkey\u001b[0m\u001b[0;34m)\u001b[0m\u001b[0;34m:\u001b[0m\u001b[0;34m\u001b[0m\u001b[0;34m\u001b[0m\u001b[0m\n\u001b[0;32m-> 1484\u001b[0;31m             \u001b[0;32mreturn\u001b[0m \u001b[0mself\u001b[0m\u001b[0;34m.\u001b[0m\u001b[0m_construct_dataarray\u001b[0m\u001b[0;34m(\u001b[0m\u001b[0mkey\u001b[0m\u001b[0;34m)\u001b[0m\u001b[0;34m\u001b[0m\u001b[0;34m\u001b[0m\u001b[0m\n\u001b[0m\u001b[1;32m   1485\u001b[0m         \u001b[0;32mif\u001b[0m \u001b[0mutils\u001b[0m\u001b[0;34m.\u001b[0m\u001b[0miterable_of_hashable\u001b[0m\u001b[0;34m(\u001b[0m\u001b[0mkey\u001b[0m\u001b[0;34m)\u001b[0m\u001b[0;34m:\u001b[0m\u001b[0;34m\u001b[0m\u001b[0;34m\u001b[0m\u001b[0m\n\u001b[1;32m   1486\u001b[0m             \u001b[0;32mreturn\u001b[0m \u001b[0mself\u001b[0m\u001b[0;34m.\u001b[0m\u001b[0m_copy_listed\u001b[0m\u001b[0;34m(\u001b[0m\u001b[0mkey\u001b[0m\u001b[0;34m)\u001b[0m\u001b[0;34m\u001b[0m\u001b[0;34m\u001b[0m\u001b[0m\n",
            "\u001b[0;32m/usr/local/lib/python3.10/dist-packages/xarray/core/dataset.py\u001b[0m in \u001b[0;36m_construct_dataarray\u001b[0;34m(self, name)\u001b[0m\n\u001b[1;32m   1393\u001b[0m             \u001b[0mvariable\u001b[0m \u001b[0;34m=\u001b[0m \u001b[0mself\u001b[0m\u001b[0;34m.\u001b[0m\u001b[0m_variables\u001b[0m\u001b[0;34m[\u001b[0m\u001b[0mname\u001b[0m\u001b[0;34m]\u001b[0m\u001b[0;34m\u001b[0m\u001b[0;34m\u001b[0m\u001b[0m\n\u001b[1;32m   1394\u001b[0m         \u001b[0;32mexcept\u001b[0m \u001b[0mKeyError\u001b[0m\u001b[0;34m:\u001b[0m\u001b[0;34m\u001b[0m\u001b[0;34m\u001b[0m\u001b[0m\n\u001b[0;32m-> 1395\u001b[0;31m             \u001b[0m_\u001b[0m\u001b[0;34m,\u001b[0m \u001b[0mname\u001b[0m\u001b[0;34m,\u001b[0m \u001b[0mvariable\u001b[0m \u001b[0;34m=\u001b[0m \u001b[0m_get_virtual_variable\u001b[0m\u001b[0;34m(\u001b[0m\u001b[0mself\u001b[0m\u001b[0;34m.\u001b[0m\u001b[0m_variables\u001b[0m\u001b[0;34m,\u001b[0m \u001b[0mname\u001b[0m\u001b[0;34m,\u001b[0m \u001b[0mself\u001b[0m\u001b[0;34m.\u001b[0m\u001b[0mdims\u001b[0m\u001b[0;34m)\u001b[0m\u001b[0;34m\u001b[0m\u001b[0;34m\u001b[0m\u001b[0m\n\u001b[0m\u001b[1;32m   1396\u001b[0m \u001b[0;34m\u001b[0m\u001b[0m\n\u001b[1;32m   1397\u001b[0m         \u001b[0mneeded_dims\u001b[0m \u001b[0;34m=\u001b[0m \u001b[0mset\u001b[0m\u001b[0;34m(\u001b[0m\u001b[0mvariable\u001b[0m\u001b[0;34m.\u001b[0m\u001b[0mdims\u001b[0m\u001b[0;34m)\u001b[0m\u001b[0;34m\u001b[0m\u001b[0;34m\u001b[0m\u001b[0m\n",
            "\u001b[0;32m/usr/local/lib/python3.10/dist-packages/xarray/core/dataset.py\u001b[0m in \u001b[0;36m_get_virtual_variable\u001b[0;34m(variables, key, dim_sizes)\u001b[0m\n\u001b[1;32m    194\u001b[0m     \u001b[0msplit_key\u001b[0m \u001b[0;34m=\u001b[0m \u001b[0mkey\u001b[0m\u001b[0;34m.\u001b[0m\u001b[0msplit\u001b[0m\u001b[0;34m(\u001b[0m\u001b[0;34m\".\"\u001b[0m\u001b[0;34m,\u001b[0m \u001b[0;36m1\u001b[0m\u001b[0;34m)\u001b[0m\u001b[0;34m\u001b[0m\u001b[0;34m\u001b[0m\u001b[0m\n\u001b[1;32m    195\u001b[0m     \u001b[0;32mif\u001b[0m \u001b[0mlen\u001b[0m\u001b[0;34m(\u001b[0m\u001b[0msplit_key\u001b[0m\u001b[0;34m)\u001b[0m \u001b[0;34m!=\u001b[0m \u001b[0;36m2\u001b[0m\u001b[0;34m:\u001b[0m\u001b[0;34m\u001b[0m\u001b[0;34m\u001b[0m\u001b[0m\n\u001b[0;32m--> 196\u001b[0;31m         \u001b[0;32mraise\u001b[0m \u001b[0mKeyError\u001b[0m\u001b[0;34m(\u001b[0m\u001b[0mkey\u001b[0m\u001b[0;34m)\u001b[0m\u001b[0;34m\u001b[0m\u001b[0;34m\u001b[0m\u001b[0m\n\u001b[0m\u001b[1;32m    197\u001b[0m \u001b[0;34m\u001b[0m\u001b[0m\n\u001b[1;32m    198\u001b[0m     \u001b[0mref_name\u001b[0m\u001b[0;34m,\u001b[0m \u001b[0mvar_name\u001b[0m \u001b[0;34m=\u001b[0m \u001b[0msplit_key\u001b[0m\u001b[0;34m\u001b[0m\u001b[0;34m\u001b[0m\u001b[0m\n",
            "\u001b[0;31mKeyError\u001b[0m: 'pm25'"
          ]
        }
      ]
    },
    {
      "cell_type": "code",
      "source": [
        "import pandas as pd\n",
        "import geopandas as gpd\n",
        "from shapely.geometry import Point\n",
        "from geocube.api.core import make_geocube\n",
        "from rasterio.enums import MergeAlg\n",
        "from functools import partial\n",
        "from geocube.rasterize import rasterize_image\n",
        "import matplotlib.pyplot as plt\n",
        "import numpy as np\n",
        "import rasterio\n",
        "from rasterio.plot import show"
      ],
      "metadata": {
        "id": "bZymLYADYq_-"
      },
      "execution_count": 49,
      "outputs": []
    },
    {
      "cell_type": "code",
      "source": [
        "\n",
        "# Define a colormap\n",
        "colormap = plt.cm.viridis\n",
        "\n",
        "# Normalize the PM2.5 values\n",
        "norm = plt.Normalize(vmin=cube.pm25.min(), vmax=cube.pm25.max())\n",
        "\n",
        "# Apply colormap\n",
        "with rasterio.open('/content/drive/MyDrive/ds-project-raster-compare/datasets/AQ_NYC_raster.tiff', 'w', driver='GTiff',\n",
        "                   height=cube.pm25.rio.height, width=cube.pm25.rio.width,\n",
        "                   count=4,  # RGBA\n",
        "                   dtype=rasterio.uint8,\n",
        "                   crs=cube.pm25.rio.crs,\n",
        "                   transform=cube.pm25.rio.transform) as dst:\n",
        "    r, g, b, a = colormap(norm(cube.pm25.values.data[0]))  # Assuming cube.pm25 is the first band\n",
        "    r, g, b, a = (np.array(x) * 255).astype(rasterio.uint8) for x in [r, g, b, a]\n",
        "    for k, band in enumerate([r, g, b, a], start=1):\n",
        "        dst.write_band(k, band)\n",
        "\n",
        "# Display the result\n",
        "with rasterio.open('/content/drive/MyDrive/ds-project-raster-compare/datasets/AQ_NYC_raster.tiff') as src:\n",
        "    fig, ax = plt.subplots()\n",
        "    show(src, ax=ax, title='NYC PM2.5 Levels')\n",
        "    plt.show()"
      ],
      "metadata": {
        "id": "XR_1srZpYlG6",
        "outputId": "dbf74439-c715-44d0-8dbe-146bd2914ab9",
        "colab": {
          "base_uri": "https://localhost:8080/",
          "height": 106
        }
      },
      "execution_count": 2,
      "outputs": [
        {
          "output_type": "error",
          "ename": "SyntaxError",
          "evalue": "invalid syntax (<ipython-input-2-197de40cf143>, line 15)",
          "traceback": [
            "\u001b[0;36m  File \u001b[0;32m\"<ipython-input-2-197de40cf143>\"\u001b[0;36m, line \u001b[0;32m15\u001b[0m\n\u001b[0;31m    r, g, b, a = (np.array(x) * 255).astype(rasterio.uint8) for x in [r, g, b, a]\u001b[0m\n\u001b[0m                                                            ^\u001b[0m\n\u001b[0;31mSyntaxError\u001b[0m\u001b[0;31m:\u001b[0m invalid syntax\n"
          ]
        }
      ]
    }
  ]
}